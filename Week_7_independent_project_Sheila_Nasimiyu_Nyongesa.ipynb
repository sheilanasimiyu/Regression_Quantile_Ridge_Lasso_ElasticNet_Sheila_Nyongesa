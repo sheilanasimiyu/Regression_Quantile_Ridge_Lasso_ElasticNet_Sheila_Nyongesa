{
 "cells": [
  {
   "cell_type": "markdown",
   "metadata": {
    "id": "xMxtPsqcTsSH"
   },
   "source": [
    "# Independent Project - Week 6 (Sheila Nyongesa)"
   ]
  },
  {
   "cell_type": "markdown",
   "metadata": {
    "id": "kLG2VTrnTvYL"
   },
   "source": [
    "## 1. Defining the Question"
   ]
  },
  {
   "cell_type": "markdown",
   "metadata": {
    "id": "XecOwPNorl2W"
   },
   "source": [
    "### a) Specifying the Question"
   ]
  },
  {
   "cell_type": "markdown",
   "metadata": {
    "id": "8l3-hBO6bODP"
   },
   "source": [
    "> I have been tasked with studying the factors that affect housing prices using information on real estate properties that was collected over the past few months and create a model that would allow Hass Consulting to accurately predict the prices of houses."
   ]
  },
  {
   "cell_type": "markdown",
   "metadata": {
    "id": "J4wfHZwQrs-t"
   },
   "source": [
    "### b) Defining the Metric for Success"
   ]
  },
  {
   "cell_type": "markdown",
   "metadata": {},
   "source": [
    "> The project will be a success if the most effective model will be developed to predict the prices of houses."
   ]
  },
  {
   "cell_type": "markdown",
   "metadata": {
    "id": "a9BPYqunry97"
   },
   "source": [
    "### c) Understanding the context "
   ]
  },
  {
   "cell_type": "markdown",
   "metadata": {},
   "source": [
    "> Hass Consulting wishes to implement a model that can effectively predict the prices of houses."
   ]
  },
  {
   "cell_type": "markdown",
   "metadata": {
    "id": "7KMRBJ7zr9HD"
   },
   "source": [
    "### d) Recording the Experimental Design"
   ]
  },
  {
   "cell_type": "markdown",
   "metadata": {},
   "source": [
    "> For the project to be a success, the following steps will be followed:\n",
    "\n",
    "> > 1) Reading  the data.\n",
    "\n",
    "> > 2) Checking the data\n",
    "\n",
    "> > 3) Tidying the Dataset\n",
    "\n",
    "> > 4) Exploratory Data Analysis\n",
    "\n",
    "> > 5) Check for multicollinearity.\n",
    "\n",
    "> > 6) Implementing the Solution using Multiple Linear Regression, Quantile Regression, Ridge Regression, Lasso Regression and Elastic Net Regression regression methods.\n",
    "\n",
    "> > 7) Challenging the solution"
   ]
  },
  {
   "cell_type": "markdown",
   "metadata": {
    "id": "zSGyg6kWsBUl"
   },
   "source": [
    "### e) Data Relevance"
   ]
  },
  {
   "cell_type": "markdown",
   "metadata": {},
   "source": [
    "> The data provided is relevant to the development of a house pricing model as it includes past information on performance of various teams as well as the current ranking of the teams on Fifa."
   ]
  },
  {
   "cell_type": "markdown",
   "metadata": {
    "id": "iUNbvIvnT7ep"
   },
   "source": [
    "## 2. Reading the Data"
   ]
  },
  {
   "cell_type": "code",
   "execution_count": 31,
   "metadata": {},
   "outputs": [],
   "source": [
    "# Importing the necessary libraries for analysis\n",
    "\n",
    "import numpy as np\n",
    "import pandas as pd\n",
    "import seaborn as sns\n",
    "from scipy import stats\n",
    "import matplotlib.pyplot as plt\n",
    "from sklearn.linear_model import Ridge\n",
    "from sklearn.linear_model import Lasso\n",
    "from sklearn import linear_model\n",
    "from sklearn.linear_model import LinearRegression\n",
    "from sklearn.metrics import mean_squared_error, r2_score\n",
    "from sklearn.model_selection import cross_val_score\n",
    "from sklearn.model_selection import RepeatedKFold\n",
    "from sklearn.compose import ColumnTransformer\n",
    "from sklearn.preprocessing import OneHotEncoder\n",
    "from sklearn.model_selection import train_test_split\n",
    "from sklearn.preprocessing import StandardScaler\n",
    "from sklearn.model_selection import GridSearchCV\n",
    "from sklearn import metrics\n",
    "import warnings\n",
    "warnings.filterwarnings(\"ignore\")\n",
    "from sklearn.linear_model import ElasticNet\n",
    "import statsmodels.formula.api as smf"
   ]
  },
  {
   "cell_type": "code",
   "execution_count": 32,
   "metadata": {},
   "outputs": [],
   "source": [
    "# Load housing dataset\n",
    "house_data = pd.read_csv('http://bit.ly/KCHouseDataset')"
   ]
  },
  {
   "cell_type": "markdown",
   "metadata": {
    "id": "OI3P3YnHUEBk"
   },
   "source": [
    "## 3. Checking the Data"
   ]
  },
  {
   "cell_type": "code",
   "execution_count": 33,
   "metadata": {
    "id": "YjSVNwgptHxY"
   },
   "outputs": [
    {
     "name": "stdout",
     "output_type": "stream",
     "text": [
      "(21613, 21)\n"
     ]
    }
   ],
   "source": [
    "# Determining the no. of records in our dataset\n",
    "print(house_data.shape)"
   ]
  },
  {
   "cell_type": "code",
   "execution_count": 34,
   "metadata": {
    "id": "xHhTw5eKWr0n"
   },
   "outputs": [
    {
     "data": {
      "text/html": [
       "<div>\n",
       "<style scoped>\n",
       "    .dataframe tbody tr th:only-of-type {\n",
       "        vertical-align: middle;\n",
       "    }\n",
       "\n",
       "    .dataframe tbody tr th {\n",
       "        vertical-align: top;\n",
       "    }\n",
       "\n",
       "    .dataframe thead th {\n",
       "        text-align: right;\n",
       "    }\n",
       "</style>\n",
       "<table border=\"1\" class=\"dataframe\">\n",
       "  <thead>\n",
       "    <tr style=\"text-align: right;\">\n",
       "      <th></th>\n",
       "      <th>id</th>\n",
       "      <th>date</th>\n",
       "      <th>price</th>\n",
       "      <th>bedrooms</th>\n",
       "      <th>bathrooms</th>\n",
       "      <th>sqft_living</th>\n",
       "      <th>sqft_lot</th>\n",
       "      <th>floors</th>\n",
       "      <th>waterfront</th>\n",
       "      <th>view</th>\n",
       "      <th>...</th>\n",
       "      <th>grade</th>\n",
       "      <th>sqft_above</th>\n",
       "      <th>sqft_basement</th>\n",
       "      <th>yr_built</th>\n",
       "      <th>yr_renovated</th>\n",
       "      <th>zipcode</th>\n",
       "      <th>lat</th>\n",
       "      <th>long</th>\n",
       "      <th>sqft_living15</th>\n",
       "      <th>sqft_lot15</th>\n",
       "    </tr>\n",
       "  </thead>\n",
       "  <tbody>\n",
       "    <tr>\n",
       "      <th>0</th>\n",
       "      <td>7129300520</td>\n",
       "      <td>20141013T000000</td>\n",
       "      <td>221900.0</td>\n",
       "      <td>3</td>\n",
       "      <td>1.00</td>\n",
       "      <td>1180</td>\n",
       "      <td>5650</td>\n",
       "      <td>1.0</td>\n",
       "      <td>0</td>\n",
       "      <td>0</td>\n",
       "      <td>...</td>\n",
       "      <td>7</td>\n",
       "      <td>1180</td>\n",
       "      <td>0</td>\n",
       "      <td>1955</td>\n",
       "      <td>0</td>\n",
       "      <td>98178</td>\n",
       "      <td>47.5112</td>\n",
       "      <td>-122.257</td>\n",
       "      <td>1340</td>\n",
       "      <td>5650</td>\n",
       "    </tr>\n",
       "    <tr>\n",
       "      <th>1</th>\n",
       "      <td>6414100192</td>\n",
       "      <td>20141209T000000</td>\n",
       "      <td>538000.0</td>\n",
       "      <td>3</td>\n",
       "      <td>2.25</td>\n",
       "      <td>2570</td>\n",
       "      <td>7242</td>\n",
       "      <td>2.0</td>\n",
       "      <td>0</td>\n",
       "      <td>0</td>\n",
       "      <td>...</td>\n",
       "      <td>7</td>\n",
       "      <td>2170</td>\n",
       "      <td>400</td>\n",
       "      <td>1951</td>\n",
       "      <td>1991</td>\n",
       "      <td>98125</td>\n",
       "      <td>47.7210</td>\n",
       "      <td>-122.319</td>\n",
       "      <td>1690</td>\n",
       "      <td>7639</td>\n",
       "    </tr>\n",
       "    <tr>\n",
       "      <th>2</th>\n",
       "      <td>5631500400</td>\n",
       "      <td>20150225T000000</td>\n",
       "      <td>180000.0</td>\n",
       "      <td>2</td>\n",
       "      <td>1.00</td>\n",
       "      <td>770</td>\n",
       "      <td>10000</td>\n",
       "      <td>1.0</td>\n",
       "      <td>0</td>\n",
       "      <td>0</td>\n",
       "      <td>...</td>\n",
       "      <td>6</td>\n",
       "      <td>770</td>\n",
       "      <td>0</td>\n",
       "      <td>1933</td>\n",
       "      <td>0</td>\n",
       "      <td>98028</td>\n",
       "      <td>47.7379</td>\n",
       "      <td>-122.233</td>\n",
       "      <td>2720</td>\n",
       "      <td>8062</td>\n",
       "    </tr>\n",
       "    <tr>\n",
       "      <th>3</th>\n",
       "      <td>2487200875</td>\n",
       "      <td>20141209T000000</td>\n",
       "      <td>604000.0</td>\n",
       "      <td>4</td>\n",
       "      <td>3.00</td>\n",
       "      <td>1960</td>\n",
       "      <td>5000</td>\n",
       "      <td>1.0</td>\n",
       "      <td>0</td>\n",
       "      <td>0</td>\n",
       "      <td>...</td>\n",
       "      <td>7</td>\n",
       "      <td>1050</td>\n",
       "      <td>910</td>\n",
       "      <td>1965</td>\n",
       "      <td>0</td>\n",
       "      <td>98136</td>\n",
       "      <td>47.5208</td>\n",
       "      <td>-122.393</td>\n",
       "      <td>1360</td>\n",
       "      <td>5000</td>\n",
       "    </tr>\n",
       "    <tr>\n",
       "      <th>4</th>\n",
       "      <td>1954400510</td>\n",
       "      <td>20150218T000000</td>\n",
       "      <td>510000.0</td>\n",
       "      <td>3</td>\n",
       "      <td>2.00</td>\n",
       "      <td>1680</td>\n",
       "      <td>8080</td>\n",
       "      <td>1.0</td>\n",
       "      <td>0</td>\n",
       "      <td>0</td>\n",
       "      <td>...</td>\n",
       "      <td>8</td>\n",
       "      <td>1680</td>\n",
       "      <td>0</td>\n",
       "      <td>1987</td>\n",
       "      <td>0</td>\n",
       "      <td>98074</td>\n",
       "      <td>47.6168</td>\n",
       "      <td>-122.045</td>\n",
       "      <td>1800</td>\n",
       "      <td>7503</td>\n",
       "    </tr>\n",
       "  </tbody>\n",
       "</table>\n",
       "<p>5 rows × 21 columns</p>\n",
       "</div>"
      ],
      "text/plain": [
       "           id             date     price  bedrooms  bathrooms  sqft_living  \\\n",
       "0  7129300520  20141013T000000  221900.0         3       1.00         1180   \n",
       "1  6414100192  20141209T000000  538000.0         3       2.25         2570   \n",
       "2  5631500400  20150225T000000  180000.0         2       1.00          770   \n",
       "3  2487200875  20141209T000000  604000.0         4       3.00         1960   \n",
       "4  1954400510  20150218T000000  510000.0         3       2.00         1680   \n",
       "\n",
       "   sqft_lot  floors  waterfront  view  ...  grade  sqft_above  sqft_basement  \\\n",
       "0      5650     1.0           0     0  ...      7        1180              0   \n",
       "1      7242     2.0           0     0  ...      7        2170            400   \n",
       "2     10000     1.0           0     0  ...      6         770              0   \n",
       "3      5000     1.0           0     0  ...      7        1050            910   \n",
       "4      8080     1.0           0     0  ...      8        1680              0   \n",
       "\n",
       "   yr_built  yr_renovated  zipcode      lat     long  sqft_living15  \\\n",
       "0      1955             0    98178  47.5112 -122.257           1340   \n",
       "1      1951          1991    98125  47.7210 -122.319           1690   \n",
       "2      1933             0    98028  47.7379 -122.233           2720   \n",
       "3      1965             0    98136  47.5208 -122.393           1360   \n",
       "4      1987             0    98074  47.6168 -122.045           1800   \n",
       "\n",
       "   sqft_lot15  \n",
       "0        5650  \n",
       "1        7639  \n",
       "2        8062  \n",
       "3        5000  \n",
       "4        7503  \n",
       "\n",
       "[5 rows x 21 columns]"
      ]
     },
     "execution_count": 34,
     "metadata": {},
     "output_type": "execute_result"
    }
   ],
   "source": [
    "# Previewing the top of our dataset\n",
    "house_data.head()"
   ]
  },
  {
   "cell_type": "code",
   "execution_count": 35,
   "metadata": {
    "id": "e9AzGcZFrIIr"
   },
   "outputs": [
    {
     "data": {
      "text/html": [
       "<div>\n",
       "<style scoped>\n",
       "    .dataframe tbody tr th:only-of-type {\n",
       "        vertical-align: middle;\n",
       "    }\n",
       "\n",
       "    .dataframe tbody tr th {\n",
       "        vertical-align: top;\n",
       "    }\n",
       "\n",
       "    .dataframe thead th {\n",
       "        text-align: right;\n",
       "    }\n",
       "</style>\n",
       "<table border=\"1\" class=\"dataframe\">\n",
       "  <thead>\n",
       "    <tr style=\"text-align: right;\">\n",
       "      <th></th>\n",
       "      <th>id</th>\n",
       "      <th>date</th>\n",
       "      <th>price</th>\n",
       "      <th>bedrooms</th>\n",
       "      <th>bathrooms</th>\n",
       "      <th>sqft_living</th>\n",
       "      <th>sqft_lot</th>\n",
       "      <th>floors</th>\n",
       "      <th>waterfront</th>\n",
       "      <th>view</th>\n",
       "      <th>...</th>\n",
       "      <th>grade</th>\n",
       "      <th>sqft_above</th>\n",
       "      <th>sqft_basement</th>\n",
       "      <th>yr_built</th>\n",
       "      <th>yr_renovated</th>\n",
       "      <th>zipcode</th>\n",
       "      <th>lat</th>\n",
       "      <th>long</th>\n",
       "      <th>sqft_living15</th>\n",
       "      <th>sqft_lot15</th>\n",
       "    </tr>\n",
       "  </thead>\n",
       "  <tbody>\n",
       "    <tr>\n",
       "      <th>21608</th>\n",
       "      <td>263000018</td>\n",
       "      <td>20140521T000000</td>\n",
       "      <td>360000.0</td>\n",
       "      <td>3</td>\n",
       "      <td>2.50</td>\n",
       "      <td>1530</td>\n",
       "      <td>1131</td>\n",
       "      <td>3.0</td>\n",
       "      <td>0</td>\n",
       "      <td>0</td>\n",
       "      <td>...</td>\n",
       "      <td>8</td>\n",
       "      <td>1530</td>\n",
       "      <td>0</td>\n",
       "      <td>2009</td>\n",
       "      <td>0</td>\n",
       "      <td>98103</td>\n",
       "      <td>47.6993</td>\n",
       "      <td>-122.346</td>\n",
       "      <td>1530</td>\n",
       "      <td>1509</td>\n",
       "    </tr>\n",
       "    <tr>\n",
       "      <th>21609</th>\n",
       "      <td>6600060120</td>\n",
       "      <td>20150223T000000</td>\n",
       "      <td>400000.0</td>\n",
       "      <td>4</td>\n",
       "      <td>2.50</td>\n",
       "      <td>2310</td>\n",
       "      <td>5813</td>\n",
       "      <td>2.0</td>\n",
       "      <td>0</td>\n",
       "      <td>0</td>\n",
       "      <td>...</td>\n",
       "      <td>8</td>\n",
       "      <td>2310</td>\n",
       "      <td>0</td>\n",
       "      <td>2014</td>\n",
       "      <td>0</td>\n",
       "      <td>98146</td>\n",
       "      <td>47.5107</td>\n",
       "      <td>-122.362</td>\n",
       "      <td>1830</td>\n",
       "      <td>7200</td>\n",
       "    </tr>\n",
       "    <tr>\n",
       "      <th>21610</th>\n",
       "      <td>1523300141</td>\n",
       "      <td>20140623T000000</td>\n",
       "      <td>402101.0</td>\n",
       "      <td>2</td>\n",
       "      <td>0.75</td>\n",
       "      <td>1020</td>\n",
       "      <td>1350</td>\n",
       "      <td>2.0</td>\n",
       "      <td>0</td>\n",
       "      <td>0</td>\n",
       "      <td>...</td>\n",
       "      <td>7</td>\n",
       "      <td>1020</td>\n",
       "      <td>0</td>\n",
       "      <td>2009</td>\n",
       "      <td>0</td>\n",
       "      <td>98144</td>\n",
       "      <td>47.5944</td>\n",
       "      <td>-122.299</td>\n",
       "      <td>1020</td>\n",
       "      <td>2007</td>\n",
       "    </tr>\n",
       "    <tr>\n",
       "      <th>21611</th>\n",
       "      <td>291310100</td>\n",
       "      <td>20150116T000000</td>\n",
       "      <td>400000.0</td>\n",
       "      <td>3</td>\n",
       "      <td>2.50</td>\n",
       "      <td>1600</td>\n",
       "      <td>2388</td>\n",
       "      <td>2.0</td>\n",
       "      <td>0</td>\n",
       "      <td>0</td>\n",
       "      <td>...</td>\n",
       "      <td>8</td>\n",
       "      <td>1600</td>\n",
       "      <td>0</td>\n",
       "      <td>2004</td>\n",
       "      <td>0</td>\n",
       "      <td>98027</td>\n",
       "      <td>47.5345</td>\n",
       "      <td>-122.069</td>\n",
       "      <td>1410</td>\n",
       "      <td>1287</td>\n",
       "    </tr>\n",
       "    <tr>\n",
       "      <th>21612</th>\n",
       "      <td>1523300157</td>\n",
       "      <td>20141015T000000</td>\n",
       "      <td>325000.0</td>\n",
       "      <td>2</td>\n",
       "      <td>0.75</td>\n",
       "      <td>1020</td>\n",
       "      <td>1076</td>\n",
       "      <td>2.0</td>\n",
       "      <td>0</td>\n",
       "      <td>0</td>\n",
       "      <td>...</td>\n",
       "      <td>7</td>\n",
       "      <td>1020</td>\n",
       "      <td>0</td>\n",
       "      <td>2008</td>\n",
       "      <td>0</td>\n",
       "      <td>98144</td>\n",
       "      <td>47.5941</td>\n",
       "      <td>-122.299</td>\n",
       "      <td>1020</td>\n",
       "      <td>1357</td>\n",
       "    </tr>\n",
       "  </tbody>\n",
       "</table>\n",
       "<p>5 rows × 21 columns</p>\n",
       "</div>"
      ],
      "text/plain": [
       "               id             date     price  bedrooms  bathrooms  \\\n",
       "21608   263000018  20140521T000000  360000.0         3       2.50   \n",
       "21609  6600060120  20150223T000000  400000.0         4       2.50   \n",
       "21610  1523300141  20140623T000000  402101.0         2       0.75   \n",
       "21611   291310100  20150116T000000  400000.0         3       2.50   \n",
       "21612  1523300157  20141015T000000  325000.0         2       0.75   \n",
       "\n",
       "       sqft_living  sqft_lot  floors  waterfront  view  ...  grade  \\\n",
       "21608         1530      1131     3.0           0     0  ...      8   \n",
       "21609         2310      5813     2.0           0     0  ...      8   \n",
       "21610         1020      1350     2.0           0     0  ...      7   \n",
       "21611         1600      2388     2.0           0     0  ...      8   \n",
       "21612         1020      1076     2.0           0     0  ...      7   \n",
       "\n",
       "       sqft_above  sqft_basement  yr_built  yr_renovated  zipcode      lat  \\\n",
       "21608        1530              0      2009             0    98103  47.6993   \n",
       "21609        2310              0      2014             0    98146  47.5107   \n",
       "21610        1020              0      2009             0    98144  47.5944   \n",
       "21611        1600              0      2004             0    98027  47.5345   \n",
       "21612        1020              0      2008             0    98144  47.5941   \n",
       "\n",
       "          long  sqft_living15  sqft_lot15  \n",
       "21608 -122.346           1530        1509  \n",
       "21609 -122.362           1830        7200  \n",
       "21610 -122.299           1020        2007  \n",
       "21611 -122.069           1410        1287  \n",
       "21612 -122.299           1020        1357  \n",
       "\n",
       "[5 rows x 21 columns]"
      ]
     },
     "execution_count": 35,
     "metadata": {},
     "output_type": "execute_result"
    }
   ],
   "source": [
    "# Previewing the bottom of our dataset\n",
    "house_data.tail()"
   ]
  },
  {
   "cell_type": "code",
   "execution_count": 36,
   "metadata": {
    "id": "n8-dW4sQWzbc"
   },
   "outputs": [
    {
     "name": "stdout",
     "output_type": "stream",
     "text": [
      "<class 'pandas.core.frame.DataFrame'>\n",
      "RangeIndex: 21613 entries, 0 to 21612\n",
      "Data columns (total 21 columns):\n",
      " #   Column         Non-Null Count  Dtype  \n",
      "---  ------         --------------  -----  \n",
      " 0   id             21613 non-null  int64  \n",
      " 1   date           21613 non-null  object \n",
      " 2   price          21613 non-null  float64\n",
      " 3   bedrooms       21613 non-null  int64  \n",
      " 4   bathrooms      21613 non-null  float64\n",
      " 5   sqft_living    21613 non-null  int64  \n",
      " 6   sqft_lot       21613 non-null  int64  \n",
      " 7   floors         21613 non-null  float64\n",
      " 8   waterfront     21613 non-null  int64  \n",
      " 9   view           21613 non-null  int64  \n",
      " 10  condition      21613 non-null  int64  \n",
      " 11  grade          21613 non-null  int64  \n",
      " 12  sqft_above     21613 non-null  int64  \n",
      " 13  sqft_basement  21613 non-null  int64  \n",
      " 14  yr_built       21613 non-null  int64  \n",
      " 15  yr_renovated   21613 non-null  int64  \n",
      " 16  zipcode        21613 non-null  int64  \n",
      " 17  lat            21613 non-null  float64\n",
      " 18  long           21613 non-null  float64\n",
      " 19  sqft_living15  21613 non-null  int64  \n",
      " 20  sqft_lot15     21613 non-null  int64  \n",
      "dtypes: float64(5), int64(15), object(1)\n",
      "memory usage: 3.5+ MB\n"
     ]
    }
   ],
   "source": [
    "# Checking whether each column has an appropriate datatype (results)\n",
    "house_data.info()"
   ]
  },
  {
   "cell_type": "code",
   "execution_count": 37,
   "metadata": {},
   "outputs": [
    {
     "name": "stdout",
     "output_type": "stream",
     "text": [
      "<class 'pandas.core.frame.DataFrame'>\n",
      "RangeIndex: 21613 entries, 0 to 21612\n",
      "Data columns (total 21 columns):\n",
      " #   Column         Non-Null Count  Dtype  \n",
      "---  ------         --------------  -----  \n",
      " 0   id             21613 non-null  int64  \n",
      " 1   date           21613 non-null  object \n",
      " 2   price          21613 non-null  float64\n",
      " 3   bedrooms       21613 non-null  int32  \n",
      " 4   bathrooms      21613 non-null  int32  \n",
      " 5   sqft_living    21613 non-null  int64  \n",
      " 6   sqft_lot       21613 non-null  int64  \n",
      " 7   floors         21613 non-null  int32  \n",
      " 8   waterfront     21613 non-null  int64  \n",
      " 9   view           21613 non-null  int64  \n",
      " 10  condition      21613 non-null  int64  \n",
      " 11  grade          21613 non-null  int64  \n",
      " 12  sqft_above     21613 non-null  int64  \n",
      " 13  sqft_basement  21613 non-null  int64  \n",
      " 14  yr_built       21613 non-null  int64  \n",
      " 15  yr_renovated   21613 non-null  int64  \n",
      " 16  zipcode        21613 non-null  int64  \n",
      " 17  lat            21613 non-null  float64\n",
      " 18  long           21613 non-null  float64\n",
      " 19  sqft_living15  21613 non-null  int64  \n",
      " 20  sqft_lot15     21613 non-null  int64  \n",
      "dtypes: float64(3), int32(3), int64(14), object(1)\n",
      "memory usage: 3.2+ MB\n"
     ]
    }
   ],
   "source": [
    "# Convert the 'bedrooms','bathrooms' and 'floors' values to int, this is because the value of a room/floor cannot have a fraction, it is a full number.\n",
    "house_data[['bedrooms','bathrooms', 'floors']] = house_data[['bedrooms','bathrooms', 'floors']].astype(int)\n",
    "house_data.info()"
   ]
  },
  {
   "cell_type": "markdown",
   "metadata": {
    "id": "FlBMxEDBUc9B"
   },
   "source": [
    "## 3. Tidying the Dataset"
   ]
  },
  {
   "cell_type": "markdown",
   "metadata": {},
   "source": [
    "### 3.1 Identification, assessment and removal of outliers"
   ]
  },
  {
   "cell_type": "markdown",
   "metadata": {},
   "source": [
    "The housing prices dataset from HFC had a total of 3,988 significant records having ouliers identified on the following variables: *'price','bedrooms', 'bathrooms','sqft_living', 'sqft_lot','condition','sqft_above', 'sqft_basement', 'sqft_living15','sqft_lot15.*\n",
    "\n",
    "These records with outliers cover approximately 18% of the dataset and may significantly have an effect on the overall performance of the prediction models. **These outliers will be dropped** and 82% of the records will be retained for prediction purposes.\n",
    "To identify and drop the outliers, the following process was followed:"
   ]
  },
  {
   "cell_type": "markdown",
   "metadata": {},
   "source": [
    "> 3.1.1 Identify the total number of outliers based on all the fields using Interquartile ranges as follows:"
   ]
  },
  {
   "cell_type": "code",
   "execution_count": 38,
   "metadata": {},
   "outputs": [
    {
     "name": "stdout",
     "output_type": "stream",
     "text": [
      "The total number of outliers identified is: 3988\n"
     ]
    }
   ],
   "source": [
    "# Identify the number of outliers using interquartile ranges\n",
    "# Obtain the interquartile range\n",
    "Q1 = house_data.quantile(0.25)\n",
    "Q3 = house_data.quantile(0.75)\n",
    "IQR = Q3 - Q1\n",
    "\n",
    "# Outline the number of identified outliers on the price\n",
    "house_data_identified_outliers = house_data[((house_data < (Q1 - 1.5 * IQR[['price','bedrooms', 'bathrooms','sqft_living', 'sqft_lot','condition','sqft_above', 'sqft_basement', 'sqft_living15','sqft_lot15']])) |(house_data > (Q3 + 1.5 * IQR[['bedrooms', 'bathrooms','sqft_living', 'sqft_lot','condition','sqft_above', 'sqft_basement', 'sqft_living15','sqft_lot15']]))).any(axis=1)]\n",
    "print('The total number of outliers identified is: ' + str(house_data_identified_outliers['id'].count()))"
   ]
  },
  {
   "cell_type": "markdown",
   "metadata": {},
   "source": [
    "> 3.1.2 Plot boxplots for the data before removing outliers"
   ]
  },
  {
   "cell_type": "code",
   "execution_count": 39,
   "metadata": {},
   "outputs": [
    {
     "data": {
      "image/png": "[encoded data removed]",
      "text/plain": [
       "<Figure size 432x288 with 1 Axes>"
      ]
     },
     "metadata": {
      "needs_background": "light"
     },
     "output_type": "display_data"
    },
    {
     "data": {
      "image/png": "[encoded data removed]",
      "text/plain": [
       "<Figure size 432x288 with 1 Axes>"
      ]
     },
     "metadata": {
      "needs_background": "light"
     },
     "output_type": "display_data"
    },
    {
     "data": {
      "image/png": "[encoded data removed]",
      "text/plain": [
       "<Figure size 432x288 with 1 Axes>"
      ]
     },
     "metadata": {
      "needs_background": "light"
     },
     "output_type": "display_data"
    },
    {
     "data": {
      "image/png": "[encoded data removed]",
      "text/plain": [
       "<Figure size 432x288 with 1 Axes>"
      ]
     },
     "metadata": {
      "needs_background": "light"
     },
     "output_type": "display_data"
    },
    {
     "data": {
      "image/png": "[encoded data removed]",
      "text/plain": [
       "<Figure size 432x288 with 1 Axes>"
      ]
     },
     "metadata": {
      "needs_background": "light"
     },
     "output_type": "display_data"
    },
    {
     "data": {
      "image/png": "[encoded data removed]",
      "text/plain": [
       "<Figure size 432x288 with 1 Axes>"
      ]
     },
     "metadata": {
      "needs_background": "light"
     },
     "output_type": "display_data"
    },
    {
     "data": {
      "image/png": "[encoded data removed]",
      "text/plain": [
       "<Figure size 432x288 with 1 Axes>"
      ]
     },
     "metadata": {
      "needs_background": "light"
     },
     "output_type": "display_data"
    },
    {
     "data": {
      "image/png": "[encoded data removed]",
      "text/plain": [
       "<Figure size 432x288 with 1 Axes>"
      ]
     },
     "metadata": {
      "needs_background": "light"
     },
     "output_type": "display_data"
    },
    {
     "data": {
      "image/png": "[encoded data removed]",
      "text/plain": [
       "<Figure size 432x288 with 1 Axes>"
      ]
     },
     "metadata": {
      "needs_background": "light"
     },
     "output_type": "display_data"
    },
    {
     "data": {
      "image/png": "[encoded data removed]",
      "text/plain": [
       "<Figure size 432x288 with 1 Axes>"
      ]
     },
     "metadata": {
      "needs_background": "light"
     },
     "output_type": "display_data"
    },
    {
     "data": {
      "image/png": "[encoded data removed]",
      "text/plain": [
       "<Figure size 432x288 with 1 Axes>"
      ]
     },
     "metadata": {
      "needs_background": "light"
     },
     "output_type": "display_data"
    },
    {
     "data": {
      "image/png": "[encoded data removed]",
      "text/plain": [
       "<Figure size 432x288 with 1 Axes>"
      ]
     },
     "metadata": {
      "needs_background": "light"
     },
     "output_type": "display_data"
    },
    {
     "data": {
      "image/png": "[encoded data removed]",
      "text/plain": [
       "<Figure size 432x288 with 1 Axes>"
      ]
     },
     "metadata": {
      "needs_background": "light"
     },
     "output_type": "display_data"
    },
    {
     "data": {
      "image/png": "[encoded data removed]",
      "text/plain": [
       "<Figure size 432x288 with 1 Axes>"
      ]
     },
     "metadata": {
      "needs_background": "light"
     },
     "output_type": "display_data"
    },
    {
     "data": {
      "image/png": "[encoded data removed]",
      "text/plain": [
       "<Figure size 432x288 with 1 Axes>"
      ]
     },
     "metadata": {
      "needs_background": "light"
     },
     "output_type": "display_data"
    },
    {
     "data": {
      "image/png": "[encoded data removed]",
      "text/plain": [
       "<Figure size 432x288 with 1 Axes>"
      ]
     },
     "metadata": {
      "needs_background": "light"
     },
     "output_type": "display_data"
    },
    {
     "data": {
      "image/png": "[encoded data removed]",
      "text/plain": [
       "<Figure size 432x288 with 1 Axes>"
      ]
     },
     "metadata": {
      "needs_background": "light"
     },
     "output_type": "display_data"
    },
    {
     "data": {
      "image/png": "[encoded data removed]",
      "text/plain": [
       "<Figure size 432x288 with 1 Axes>"
      ]
     },
     "metadata": {
      "needs_background": "light"
     },
     "output_type": "display_data"
    },
    {
     "data": {
      "image/png": "[encoded data removed]",
      "text/plain": [
       "<Figure size 432x288 with 1 Axes>"
      ]
     },
     "metadata": {
      "needs_background": "light"
     },
     "output_type": "display_data"
    }
   ],
   "source": [
    "fields = ['price', 'bedrooms', 'bathrooms', 'sqft_living', 'sqft_lot', 'floors', 'waterfront', 'view', 'condition', 'grade', 'sqft_above', 'sqft_basement', 'yr_built', 'yr_renovated', 'zipcode', 'lat', 'long', 'sqft_living15','sqft_lot15']\n",
    "\n",
    "for field in fields:\n",
    "    house_data_identified_outliers = sns.boxplot(house_data[field])\n",
    "    plt.xticks(rotation=90)\n",
    "    plt.show()"
   ]
  },
  {
   "cell_type": "markdown",
   "metadata": {},
   "source": [
    "> 3.1.2 Plot boxplots for the data after removing outliers"
   ]
  },
  {
   "cell_type": "code",
   "execution_count": 40,
   "metadata": {},
   "outputs": [],
   "source": [
    "# Update the house data with records that do not have outliers\n",
    "house_data = house_data[~((house_data < (Q1 - 1.5 * IQR[['price','bedrooms', 'bathrooms','sqft_living', 'sqft_lot','condition','sqft_above', 'sqft_basement', 'sqft_living15','sqft_lot15']])) |(house_data > (Q3 + 1.5 * IQR[['bedrooms', 'bathrooms','sqft_living', 'sqft_lot','condition','sqft_above', 'sqft_basement', 'sqft_living15','sqft_lot15']]))).any(axis=1)]"
   ]
  },
  {
   "cell_type": "code",
   "execution_count": 41,
   "metadata": {},
   "outputs": [
    {
     "name": "stdout",
     "output_type": "stream",
     "text": [
      "The total number of records remaining after removing outliers is: 17625\n"
     ]
    }
   ],
   "source": [
    "print('The total number of records remaining after removing outliers is: ' +str(house_data['id'].count()))"
   ]
  },
  {
   "cell_type": "code",
   "execution_count": 42,
   "metadata": {},
   "outputs": [
    {
     "data": {
      "image/png": "[encoded data removed]",
      "text/plain": [
       "<Figure size 432x288 with 1 Axes>"
      ]
     },
     "metadata": {
      "needs_background": "light"
     },
     "output_type": "display_data"
    },
    {
     "data": {
      "image/png": "[encoded data removed]",
      "text/plain": [
       "<Figure size 432x288 with 1 Axes>"
      ]
     },
     "metadata": {
      "needs_background": "light"
     },
     "output_type": "display_data"
    },
    {
     "data": {
      "image/png": "[encoded data removed]",
      "text/plain": [
       "<Figure size 432x288 with 1 Axes>"
      ]
     },
     "metadata": {
      "needs_background": "light"
     },
     "output_type": "display_data"
    },
    {
     "data": {
      "image/png": "[encoded data removed]",
      "text/plain": [
       "<Figure size 432x288 with 1 Axes>"
      ]
     },
     "metadata": {
      "needs_background": "light"
     },
     "output_type": "display_data"
    },
    {
     "data": {
      "image/png": "[encoded data removed]",
      "text/plain": [
       "<Figure size 432x288 with 1 Axes>"
      ]
     },
     "metadata": {
      "needs_background": "light"
     },
     "output_type": "display_data"
    },
    {
     "data": {
      "image/png": "[encoded data removed]",
      "text/plain": [
       "<Figure size 432x288 with 1 Axes>"
      ]
     },
     "metadata": {
      "needs_background": "light"
     },
     "output_type": "display_data"
    },
    {
     "data": {
      "image/png": "[encoded data removed]",
      "text/plain": [
       "<Figure size 432x288 with 1 Axes>"
      ]
     },
     "metadata": {
      "needs_background": "light"
     },
     "output_type": "display_data"
    },
    {
     "data": {
      "image/png": "[encoded data removed]",
      "text/plain": [
       "<Figure size 432x288 with 1 Axes>"
      ]
     },
     "metadata": {
      "needs_background": "light"
     },
     "output_type": "display_data"
    },
    {
     "data": {
      "image/png": "[encoded data removed]",
      "text/plain": [
       "<Figure size 432x288 with 1 Axes>"
      ]
     },
     "metadata": {
      "needs_background": "light"
     },
     "output_type": "display_data"
    },
    {
     "data": {
      "image/png": "[encoded data removed]",
      "text/plain": [
       "<Figure size 432x288 with 1 Axes>"
      ]
     },
     "metadata": {
      "needs_background": "light"
     },
     "output_type": "display_data"
    },
    {
     "data": {
      "image/png": "[encoded data removed]",
      "text/plain": [
       "<Figure size 432x288 with 1 Axes>"
      ]
     },
     "metadata": {
      "needs_background": "light"
     },
     "output_type": "display_data"
    },
    {
     "data": {
      "image/png": "[encoded data removed]",
      "text/plain": [
       "<Figure size 432x288 with 1 Axes>"
      ]
     },
     "metadata": {
      "needs_background": "light"
     },
     "output_type": "display_data"
    },
    {
     "data": {
      "image/png": "[encoded data removed]",
      "text/plain": [
       "<Figure size 432x288 with 1 Axes>"
      ]
     },
     "metadata": {
      "needs_background": "light"
     },
     "output_type": "display_data"
    },
    {
     "data": {
      "image/png": "[encoded data removed]",
      "text/plain": [
       "<Figure size 432x288 with 1 Axes>"
      ]
     },
     "metadata": {
      "needs_background": "light"
     },
     "output_type": "display_data"
    },
    {
     "data": {
      "image/png": "[encoded data removed]",
      "text/plain": [
       "<Figure size 432x288 with 1 Axes>"
      ]
     },
     "metadata": {
      "needs_background": "light"
     },
     "output_type": "display_data"
    },
    {
     "data": {
      "image/png": "[encoded data removed]",
      "text/plain": [
       "<Figure size 432x288 with 1 Axes>"
      ]
     },
     "metadata": {
      "needs_background": "light"
     },
     "output_type": "display_data"
    },
    {
     "data": {
      "image/png": "[encoded data removed]",
      "text/plain": [
       "<Figure size 432x288 with 1 Axes>"
      ]
     },
     "metadata": {
      "needs_background": "light"
     },
     "output_type": "display_data"
    },
    {
     "data": {
      "image/png": "[encoded data removed]",
      "text/plain": [
       "<Figure size 432x288 with 1 Axes>"
      ]
     },
     "metadata": {
      "needs_background": "light"
     },
     "output_type": "display_data"
    },
    {
     "data": {
      "image/png": "[encoded data removed]",
      "text/plain": [
       "<Figure size 432x288 with 1 Axes>"
      ]
     },
     "metadata": {
      "needs_background": "light"
     },
     "output_type": "display_data"
    }
   ],
   "source": [
    "fields = ['price', 'bedrooms', 'bathrooms', 'sqft_living', 'sqft_lot', 'floors', 'waterfront', 'view', 'condition', 'grade', 'sqft_above', 'sqft_basement', 'yr_built', 'yr_renovated', 'zipcode', 'lat', 'long', 'sqft_living15','sqft_lot15']\n",
    "\n",
    "for field in fields:\n",
    "    house_data_confirm = sns.boxplot(house_data[field])\n",
    "    plt.xticks(rotation=90)\n",
    "    plt.show()"
   ]
  },
  {
   "cell_type": "markdown",
   "metadata": {},
   "source": [
    "### 3.2 Cleaning the dataset"
   ]
  },
  {
   "cell_type": "markdown",
   "metadata": {},
   "source": [
    "> 3.2.1 Checking for nulls in the datasets"
   ]
  },
  {
   "cell_type": "code",
   "execution_count": 43,
   "metadata": {
    "id": "PvCYb6dgW4yh"
   },
   "outputs": [
    {
     "data": {
      "text/plain": [
       "id               0\n",
       "date             0\n",
       "price            0\n",
       "bedrooms         0\n",
       "bathrooms        0\n",
       "sqft_living      0\n",
       "sqft_lot         0\n",
       "floors           0\n",
       "waterfront       0\n",
       "view             0\n",
       "condition        0\n",
       "grade            0\n",
       "sqft_above       0\n",
       "sqft_basement    0\n",
       "yr_built         0\n",
       "yr_renovated     0\n",
       "zipcode          0\n",
       "lat              0\n",
       "long             0\n",
       "sqft_living15    0\n",
       "sqft_lot15       0\n",
       "dtype: int64"
      ]
     },
     "execution_count": 43,
     "metadata": {},
     "output_type": "execute_result"
    }
   ],
   "source": [
    "# Identifying the Missing Data\n",
    "#\n",
    "house_data.isnull().sum()"
   ]
  },
  {
   "cell_type": "markdown",
   "metadata": {},
   "source": [
    "> 3.2.2 Removing unecessary columns from the dataset"
   ]
  },
  {
   "cell_type": "code",
   "execution_count": 44,
   "metadata": {
    "id": "D-4I__6Os4C5"
   },
   "outputs": [
    {
     "name": "stdout",
     "output_type": "stream",
     "text": [
      "<class 'pandas.core.frame.DataFrame'>\n",
      "Int64Index: 17625 entries, 0 to 21612\n",
      "Data columns (total 20 columns):\n",
      " #   Column         Non-Null Count  Dtype  \n",
      "---  ------         --------------  -----  \n",
      " 0   date           17625 non-null  object \n",
      " 1   price          17625 non-null  float64\n",
      " 2   bedrooms       17625 non-null  int32  \n",
      " 3   bathrooms      17625 non-null  int32  \n",
      " 4   sqft_living    17625 non-null  int64  \n",
      " 5   sqft_lot       17625 non-null  int64  \n",
      " 6   floors         17625 non-null  int32  \n",
      " 7   waterfront     17625 non-null  int64  \n",
      " 8   view           17625 non-null  int64  \n",
      " 9   condition      17625 non-null  int64  \n",
      " 10  grade          17625 non-null  int64  \n",
      " 11  sqft_above     17625 non-null  int64  \n",
      " 12  sqft_basement  17625 non-null  int64  \n",
      " 13  yr_built       17625 non-null  int64  \n",
      " 14  yr_renovated   17625 non-null  int64  \n",
      " 15  zipcode        17625 non-null  int64  \n",
      " 16  lat            17625 non-null  float64\n",
      " 17  long           17625 non-null  float64\n",
      " 18  sqft_living15  17625 non-null  int64  \n",
      " 19  sqft_lot15     17625 non-null  int64  \n",
      "dtypes: float64(3), int32(3), int64(13), object(1)\n",
      "memory usage: 2.6+ MB\n"
     ]
    }
   ],
   "source": [
    "house_data.drop(['id'], axis = 1, inplace = True)\n",
    "house_data.info()"
   ]
  },
  {
   "cell_type": "markdown",
   "metadata": {},
   "source": [
    "## 4) Exploratory Data Analysis"
   ]
  },
  {
   "cell_type": "markdown",
   "metadata": {},
   "source": [
    "### 4.1) Univariate analysis"
   ]
  },
  {
   "cell_type": "code",
   "execution_count": 45,
   "metadata": {},
   "outputs": [
    {
     "data": {
      "text/plain": [
       "Text(0.5, 1.0, 'Distribution of prices')"
      ]
     },
     "execution_count": 45,
     "metadata": {},
     "output_type": "execute_result"
    },
    {
     "data": {
      "image/png": "[encoded data removed]",
      "text/plain": [
       "<Figure size 432x288 with 1 Axes>"
      ]
     },
     "metadata": {
      "needs_background": "light"
     },
     "output_type": "display_data"
    }
   ],
   "source": [
    "num_bins = 5\n",
    "\n",
    "plt.hist(house_data['price'], num_bins, histtype=\"bar\", rwidth=2, color='black')\n",
    "\n",
    "# Labelling our x axis\n",
    "plt.xlabel(\"Prices\")\n",
    "\n",
    "# Giving a title to our Bar chart\n",
    "plt.title(\"Distribution of prices\")"
   ]
  },
  {
   "cell_type": "code",
   "execution_count": 46,
   "metadata": {},
   "outputs": [
    {
     "name": "stdout",
     "output_type": "stream",
     "text": [
      "Average house prices: 481023.91035460995\n"
     ]
    }
   ],
   "source": [
    "print('Average house prices: ' + str(house_data['price'].mean()))"
   ]
  },
  {
   "cell_type": "markdown",
   "metadata": {},
   "source": [
    "The highest houses are priced between KES. 1,800,000 and KES. 2,400,000 while the lowest priced are between KES. 100,000 and KES.700,000.\n",
    "\n",
    "Most of the houses are priced between KES.100,000 and KES.700,000 with an average price of KES. 481,023."
   ]
  },
  {
   "cell_type": "markdown",
   "metadata": {},
   "source": [
    "### 4.2) Bivariate Analysis"
   ]
  },
  {
   "cell_type": "code",
   "execution_count": 47,
   "metadata": {},
   "outputs": [
    {
     "data": {
      "image/png": "[encoded data removed]",
      "text/plain": [
       "<Figure size 432x288 with 1 Axes>"
      ]
     },
     "metadata": {
      "needs_background": "light"
     },
     "output_type": "display_data"
    },
    {
     "data": {
      "image/png": "[encoded data removed]",
      "text/plain": [
       "<Figure size 432x288 with 1 Axes>"
      ]
     },
     "metadata": {
      "needs_background": "light"
     },
     "output_type": "display_data"
    }
   ],
   "source": [
    "# ***************Visualising the number of bedrooms***************\n",
    "\n",
    "house_data['bedrooms'].value_counts().plot(kind='bar',color='red')\n",
    "\n",
    "# Labelling our x axis\n",
    "plt.xlabel(\"Number of bedrooms\")\n",
    "\n",
    "# Labelling our y axis\n",
    "plt.ylabel(\"Number of houses\")\n",
    "\n",
    "# Giving a title to our Bar chart\n",
    "plt.title(\"Distribution of the number of bedrooms\")\n",
    "\n",
    "plt.show()\n",
    "\n",
    "# ***************Visusliasing the prices for the number of bedrooms***************\n",
    "\n",
    "plt.bar(house_data['bedrooms'], house_data['price'],color ='red', width = 0.4)\n",
    "\n",
    "# Labelling our x axis\n",
    "plt.xlabel(\"Number of bedrooms\")\n",
    "\n",
    "# Labelling our y axis\n",
    "plt.ylabel(\"Price\")\n",
    "\n",
    "# Giving a title to our Bar chart\n",
    "plt.title(\"Distribution of the number of bedrooms\")\n",
    "\n",
    "plt.show()"
   ]
  },
  {
   "cell_type": "markdown",
   "metadata": {},
   "source": [
    "From the assessment above, most houses (approximately 8,700) had three bedrooms while only a few (approximately 700) had 5 bedrooms.\n",
    "\n",
    "The prices of the houses increase significantly with the increase in the number of bedrooms in the house."
   ]
  },
  {
   "cell_type": "code",
   "execution_count": 48,
   "metadata": {},
   "outputs": [
    {
     "data": {
      "image/png": "[encoded data removed]",
      "text/plain": [
       "<Figure size 432x288 with 1 Axes>"
      ]
     },
     "metadata": {
      "needs_background": "light"
     },
     "output_type": "display_data"
    },
    {
     "data": {
      "image/png": "[encoded data removed]",
      "text/plain": [
       "<Figure size 432x288 with 1 Axes>"
      ]
     },
     "metadata": {
      "needs_background": "light"
     },
     "output_type": "display_data"
    }
   ],
   "source": [
    "# ***************Visualising the number of bedrooms***************\n",
    "\n",
    "house_data['bathrooms'].value_counts().plot(kind='bar',color='red')\n",
    "\n",
    "# Labelling our x axis\n",
    "plt.xlabel(\"Number of bathrooms\")\n",
    "\n",
    "# Labelling our y axis\n",
    "plt.ylabel(\"Number of houses\")\n",
    "\n",
    "# Giving a title to our Bar chart\n",
    "plt.title(\"Distribution of the number of bathrooms\")\n",
    "\n",
    "plt.show()\n",
    "\n",
    "# ***************Visualising the prices for the number of bedrooms***************\n",
    "\n",
    "plt.bar(house_data['bathrooms'], house_data['price'],color ='red', width = 0.4)\n",
    "\n",
    "# Labelling our x axis\n",
    "plt.xlabel(\"Number of bathrooms\")\n",
    "\n",
    "# Labelling our y axis\n",
    "plt.ylabel(\"Price\")\n",
    "\n",
    "# Giving a title to our Bar chart\n",
    "plt.title(\"Distribution of the number of bathrooms\")\n",
    "\n",
    "plt.show()"
   ]
  },
  {
   "cell_type": "markdown",
   "metadata": {},
   "source": [
    "From the assessment above, most houses (approximately 8,700) had two bathrooms while only a few (approximately 700) had 3 bathrooms.\n",
    "\n",
    "The prices of the houses increase significantly with the increase in the number of bathrooms in the house."
   ]
  },
  {
   "cell_type": "markdown",
   "metadata": {},
   "source": [
    "## 5) Checking for Multicollinearity"
   ]
  },
  {
   "cell_type": "code",
   "execution_count": 49,
   "metadata": {},
   "outputs": [
    {
     "data": {
      "text/html": [
       "<div>\n",
       "<style scoped>\n",
       "    .dataframe tbody tr th:only-of-type {\n",
       "        vertical-align: middle;\n",
       "    }\n",
       "\n",
       "    .dataframe tbody tr th {\n",
       "        vertical-align: top;\n",
       "    }\n",
       "\n",
       "    .dataframe thead th {\n",
       "        text-align: right;\n",
       "    }\n",
       "</style>\n",
       "<table border=\"1\" class=\"dataframe\">\n",
       "  <thead>\n",
       "    <tr style=\"text-align: right;\">\n",
       "      <th></th>\n",
       "      <th>price</th>\n",
       "      <th>bedrooms</th>\n",
       "      <th>bathrooms</th>\n",
       "      <th>sqft_living</th>\n",
       "      <th>sqft_lot</th>\n",
       "      <th>floors</th>\n",
       "      <th>waterfront</th>\n",
       "      <th>view</th>\n",
       "      <th>condition</th>\n",
       "      <th>grade</th>\n",
       "      <th>sqft_above</th>\n",
       "      <th>sqft_basement</th>\n",
       "      <th>yr_built</th>\n",
       "      <th>yr_renovated</th>\n",
       "      <th>zipcode</th>\n",
       "      <th>lat</th>\n",
       "      <th>long</th>\n",
       "      <th>sqft_living15</th>\n",
       "      <th>sqft_lot15</th>\n",
       "    </tr>\n",
       "  </thead>\n",
       "  <tbody>\n",
       "    <tr>\n",
       "      <th>price</th>\n",
       "      <td>1.000000</td>\n",
       "      <td>0.259247</td>\n",
       "      <td>0.368014</td>\n",
       "      <td>0.588679</td>\n",
       "      <td>-0.011863</td>\n",
       "      <td>0.222641</td>\n",
       "      <td>0.147920</td>\n",
       "      <td>0.315465</td>\n",
       "      <td>0.061029</td>\n",
       "      <td>0.605971</td>\n",
       "      <td>0.474300</td>\n",
       "      <td>0.248243</td>\n",
       "      <td>-0.026851</td>\n",
       "      <td>0.142026</td>\n",
       "      <td>0.023852</td>\n",
       "      <td>0.411251</td>\n",
       "      <td>-0.027361</td>\n",
       "      <td>0.509550</td>\n",
       "      <td>-0.015343</td>\n",
       "    </tr>\n",
       "    <tr>\n",
       "      <th>bedrooms</th>\n",
       "      <td>0.259247</td>\n",
       "      <td>1.000000</td>\n",
       "      <td>0.401071</td>\n",
       "      <td>0.605539</td>\n",
       "      <td>0.197949</td>\n",
       "      <td>0.129669</td>\n",
       "      <td>-0.012398</td>\n",
       "      <td>0.042589</td>\n",
       "      <td>0.018669</td>\n",
       "      <td>0.317316</td>\n",
       "      <td>0.488162</td>\n",
       "      <td>0.254870</td>\n",
       "      <td>0.159622</td>\n",
       "      <td>0.017736</td>\n",
       "      <td>-0.168711</td>\n",
       "      <td>-0.059036</td>\n",
       "      <td>0.157695</td>\n",
       "      <td>0.405009</td>\n",
       "      <td>0.185578</td>\n",
       "    </tr>\n",
       "    <tr>\n",
       "      <th>bathrooms</th>\n",
       "      <td>0.368014</td>\n",
       "      <td>0.401071</td>\n",
       "      <td>1.000000</td>\n",
       "      <td>0.601214</td>\n",
       "      <td>-0.081060</td>\n",
       "      <td>0.509613</td>\n",
       "      <td>0.013272</td>\n",
       "      <td>0.087060</td>\n",
       "      <td>-0.148387</td>\n",
       "      <td>0.523716</td>\n",
       "      <td>0.543129</td>\n",
       "      <td>0.151774</td>\n",
       "      <td>0.465288</td>\n",
       "      <td>0.054965</td>\n",
       "      <td>-0.153690</td>\n",
       "      <td>-0.009539</td>\n",
       "      <td>0.181221</td>\n",
       "      <td>0.435776</td>\n",
       "      <td>-0.085059</td>\n",
       "    </tr>\n",
       "    <tr>\n",
       "      <th>sqft_living</th>\n",
       "      <td>0.588679</td>\n",
       "      <td>0.605539</td>\n",
       "      <td>0.601214</td>\n",
       "      <td>1.000000</td>\n",
       "      <td>0.189364</td>\n",
       "      <td>0.349835</td>\n",
       "      <td>0.037137</td>\n",
       "      <td>0.182255</td>\n",
       "      <td>-0.068627</td>\n",
       "      <td>0.684372</td>\n",
       "      <td>0.842379</td>\n",
       "      <td>0.358149</td>\n",
       "      <td>0.316917</td>\n",
       "      <td>0.053124</td>\n",
       "      <td>-0.185671</td>\n",
       "      <td>0.015235</td>\n",
       "      <td>0.231630</td>\n",
       "      <td>0.733602</td>\n",
       "      <td>0.174493</td>\n",
       "    </tr>\n",
       "    <tr>\n",
       "      <th>sqft_lot</th>\n",
       "      <td>-0.011863</td>\n",
       "      <td>0.197949</td>\n",
       "      <td>-0.081060</td>\n",
       "      <td>0.189364</td>\n",
       "      <td>1.000000</td>\n",
       "      <td>-0.330232</td>\n",
       "      <td>0.052198</td>\n",
       "      <td>0.058469</td>\n",
       "      <td>0.124426</td>\n",
       "      <td>0.034649</td>\n",
       "      <td>0.155057</td>\n",
       "      <td>0.075547</td>\n",
       "      <td>-0.059662</td>\n",
       "      <td>-0.008516</td>\n",
       "      <td>-0.253470</td>\n",
       "      <td>-0.144011</td>\n",
       "      <td>0.241046</td>\n",
       "      <td>0.240929</td>\n",
       "      <td>0.876110</td>\n",
       "    </tr>\n",
       "    <tr>\n",
       "      <th>floors</th>\n",
       "      <td>0.222641</td>\n",
       "      <td>0.129669</td>\n",
       "      <td>0.509613</td>\n",
       "      <td>0.349835</td>\n",
       "      <td>-0.330232</td>\n",
       "      <td>1.000000</td>\n",
       "      <td>0.020119</td>\n",
       "      <td>0.004453</td>\n",
       "      <td>-0.312847</td>\n",
       "      <td>0.486710</td>\n",
       "      <td>0.532107</td>\n",
       "      <td>-0.286046</td>\n",
       "      <td>0.599560</td>\n",
       "      <td>-0.006457</td>\n",
       "      <td>-0.099614</td>\n",
       "      <td>0.002330</td>\n",
       "      <td>0.163951</td>\n",
       "      <td>0.284984</td>\n",
       "      <td>-0.327885</td>\n",
       "    </tr>\n",
       "    <tr>\n",
       "      <th>waterfront</th>\n",
       "      <td>0.147920</td>\n",
       "      <td>-0.012398</td>\n",
       "      <td>0.013272</td>\n",
       "      <td>0.037137</td>\n",
       "      <td>0.052198</td>\n",
       "      <td>0.020119</td>\n",
       "      <td>1.000000</td>\n",
       "      <td>0.302657</td>\n",
       "      <td>0.001327</td>\n",
       "      <td>0.039762</td>\n",
       "      <td>0.025557</td>\n",
       "      <td>0.023221</td>\n",
       "      <td>-0.011965</td>\n",
       "      <td>0.067685</td>\n",
       "      <td>0.033461</td>\n",
       "      <td>-0.003408</td>\n",
       "      <td>-0.003451</td>\n",
       "      <td>0.050405</td>\n",
       "      <td>0.059686</td>\n",
       "    </tr>\n",
       "    <tr>\n",
       "      <th>view</th>\n",
       "      <td>0.315465</td>\n",
       "      <td>0.042589</td>\n",
       "      <td>0.087060</td>\n",
       "      <td>0.182255</td>\n",
       "      <td>0.058469</td>\n",
       "      <td>0.004453</td>\n",
       "      <td>0.302657</td>\n",
       "      <td>1.000000</td>\n",
       "      <td>0.029737</td>\n",
       "      <td>0.171682</td>\n",
       "      <td>0.079675</td>\n",
       "      <td>0.193232</td>\n",
       "      <td>-0.084095</td>\n",
       "      <td>0.096533</td>\n",
       "      <td>0.124624</td>\n",
       "      <td>0.029654</td>\n",
       "      <td>-0.098205</td>\n",
       "      <td>0.213437</td>\n",
       "      <td>0.064389</td>\n",
       "    </tr>\n",
       "    <tr>\n",
       "      <th>condition</th>\n",
       "      <td>0.061029</td>\n",
       "      <td>0.018669</td>\n",
       "      <td>-0.148387</td>\n",
       "      <td>-0.068627</td>\n",
       "      <td>0.124426</td>\n",
       "      <td>-0.312847</td>\n",
       "      <td>0.001327</td>\n",
       "      <td>0.029737</td>\n",
       "      <td>1.000000</td>\n",
       "      <td>-0.175453</td>\n",
       "      <td>-0.180859</td>\n",
       "      <td>0.188613</td>\n",
       "      <td>-0.382925</td>\n",
       "      <td>-0.061090</td>\n",
       "      <td>0.003081</td>\n",
       "      <td>0.007629</td>\n",
       "      <td>-0.103706</td>\n",
       "      <td>-0.110758</td>\n",
       "      <td>0.128376</td>\n",
       "    </tr>\n",
       "    <tr>\n",
       "      <th>grade</th>\n",
       "      <td>0.605971</td>\n",
       "      <td>0.317316</td>\n",
       "      <td>0.523716</td>\n",
       "      <td>0.684372</td>\n",
       "      <td>0.034649</td>\n",
       "      <td>0.486710</td>\n",
       "      <td>0.039762</td>\n",
       "      <td>0.171682</td>\n",
       "      <td>-0.175453</td>\n",
       "      <td>1.000000</td>\n",
       "      <td>0.680603</td>\n",
       "      <td>0.064742</td>\n",
       "      <td>0.452029</td>\n",
       "      <td>0.016198</td>\n",
       "      <td>-0.162167</td>\n",
       "      <td>0.093919</td>\n",
       "      <td>0.170896</td>\n",
       "      <td>0.643492</td>\n",
       "      <td>0.041197</td>\n",
       "    </tr>\n",
       "    <tr>\n",
       "      <th>sqft_above</th>\n",
       "      <td>0.474300</td>\n",
       "      <td>0.488162</td>\n",
       "      <td>0.543129</td>\n",
       "      <td>0.842379</td>\n",
       "      <td>0.155057</td>\n",
       "      <td>0.532107</td>\n",
       "      <td>0.025557</td>\n",
       "      <td>0.079675</td>\n",
       "      <td>-0.180859</td>\n",
       "      <td>0.680603</td>\n",
       "      <td>1.000000</td>\n",
       "      <td>-0.201441</td>\n",
       "      <td>0.442557</td>\n",
       "      <td>0.015573</td>\n",
       "      <td>-0.272183</td>\n",
       "      <td>-0.061542</td>\n",
       "      <td>0.359967</td>\n",
       "      <td>0.706965</td>\n",
       "      <td>0.142624</td>\n",
       "    </tr>\n",
       "    <tr>\n",
       "      <th>sqft_basement</th>\n",
       "      <td>0.248243</td>\n",
       "      <td>0.254870</td>\n",
       "      <td>0.151774</td>\n",
       "      <td>0.358149</td>\n",
       "      <td>0.075547</td>\n",
       "      <td>-0.286046</td>\n",
       "      <td>0.023221</td>\n",
       "      <td>0.193232</td>\n",
       "      <td>0.188613</td>\n",
       "      <td>0.064742</td>\n",
       "      <td>-0.201441</td>\n",
       "      <td>1.000000</td>\n",
       "      <td>-0.190727</td>\n",
       "      <td>0.069579</td>\n",
       "      <td>0.134098</td>\n",
       "      <td>0.134319</td>\n",
       "      <td>-0.202652</td>\n",
       "      <td>0.108549</td>\n",
       "      <td>0.070058</td>\n",
       "    </tr>\n",
       "    <tr>\n",
       "      <th>yr_built</th>\n",
       "      <td>-0.026851</td>\n",
       "      <td>0.159622</td>\n",
       "      <td>0.465288</td>\n",
       "      <td>0.316917</td>\n",
       "      <td>-0.059662</td>\n",
       "      <td>0.599560</td>\n",
       "      <td>-0.011965</td>\n",
       "      <td>-0.084095</td>\n",
       "      <td>-0.382925</td>\n",
       "      <td>0.452029</td>\n",
       "      <td>0.442557</td>\n",
       "      <td>-0.190727</td>\n",
       "      <td>1.000000</td>\n",
       "      <td>-0.221927</td>\n",
       "      <td>-0.346550</td>\n",
       "      <td>-0.180545</td>\n",
       "      <td>0.415124</td>\n",
       "      <td>0.320607</td>\n",
       "      <td>-0.038869</td>\n",
       "    </tr>\n",
       "    <tr>\n",
       "      <th>yr_renovated</th>\n",
       "      <td>0.142026</td>\n",
       "      <td>0.017736</td>\n",
       "      <td>0.054965</td>\n",
       "      <td>0.053124</td>\n",
       "      <td>-0.008516</td>\n",
       "      <td>-0.006457</td>\n",
       "      <td>0.067685</td>\n",
       "      <td>0.096533</td>\n",
       "      <td>-0.061090</td>\n",
       "      <td>0.016198</td>\n",
       "      <td>0.015573</td>\n",
       "      <td>0.069579</td>\n",
       "      <td>-0.221927</td>\n",
       "      <td>1.000000</td>\n",
       "      <td>0.075663</td>\n",
       "      <td>0.039254</td>\n",
       "      <td>-0.076045</td>\n",
       "      <td>-0.017122</td>\n",
       "      <td>-0.009011</td>\n",
       "    </tr>\n",
       "    <tr>\n",
       "      <th>zipcode</th>\n",
       "      <td>0.023852</td>\n",
       "      <td>-0.168711</td>\n",
       "      <td>-0.153690</td>\n",
       "      <td>-0.185671</td>\n",
       "      <td>-0.253470</td>\n",
       "      <td>-0.099614</td>\n",
       "      <td>0.033461</td>\n",
       "      <td>0.124624</td>\n",
       "      <td>0.003081</td>\n",
       "      <td>-0.162167</td>\n",
       "      <td>-0.272183</td>\n",
       "      <td>0.134098</td>\n",
       "      <td>-0.346550</td>\n",
       "      <td>0.075663</td>\n",
       "      <td>1.000000</td>\n",
       "      <td>0.288131</td>\n",
       "      <td>-0.576286</td>\n",
       "      <td>-0.272137</td>\n",
       "      <td>-0.258189</td>\n",
       "    </tr>\n",
       "    <tr>\n",
       "      <th>lat</th>\n",
       "      <td>0.411251</td>\n",
       "      <td>-0.059036</td>\n",
       "      <td>-0.009539</td>\n",
       "      <td>0.015235</td>\n",
       "      <td>-0.144011</td>\n",
       "      <td>0.002330</td>\n",
       "      <td>-0.003408</td>\n",
       "      <td>0.029654</td>\n",
       "      <td>0.007629</td>\n",
       "      <td>0.093919</td>\n",
       "      <td>-0.061542</td>\n",
       "      <td>0.134319</td>\n",
       "      <td>-0.180545</td>\n",
       "      <td>0.039254</td>\n",
       "      <td>0.288131</td>\n",
       "      <td>1.000000</td>\n",
       "      <td>-0.170516</td>\n",
       "      <td>0.005681</td>\n",
       "      <td>-0.140539</td>\n",
       "    </tr>\n",
       "    <tr>\n",
       "      <th>long</th>\n",
       "      <td>-0.027361</td>\n",
       "      <td>0.157695</td>\n",
       "      <td>0.181221</td>\n",
       "      <td>0.231630</td>\n",
       "      <td>0.241046</td>\n",
       "      <td>0.163951</td>\n",
       "      <td>-0.003451</td>\n",
       "      <td>-0.098205</td>\n",
       "      <td>-0.103706</td>\n",
       "      <td>0.170896</td>\n",
       "      <td>0.359967</td>\n",
       "      <td>-0.202652</td>\n",
       "      <td>0.415124</td>\n",
       "      <td>-0.076045</td>\n",
       "      <td>-0.576286</td>\n",
       "      <td>-0.170516</td>\n",
       "      <td>1.000000</td>\n",
       "      <td>0.327880</td>\n",
       "      <td>0.247118</td>\n",
       "    </tr>\n",
       "    <tr>\n",
       "      <th>sqft_living15</th>\n",
       "      <td>0.509550</td>\n",
       "      <td>0.405009</td>\n",
       "      <td>0.435776</td>\n",
       "      <td>0.733602</td>\n",
       "      <td>0.240929</td>\n",
       "      <td>0.284984</td>\n",
       "      <td>0.050405</td>\n",
       "      <td>0.213437</td>\n",
       "      <td>-0.110758</td>\n",
       "      <td>0.643492</td>\n",
       "      <td>0.706965</td>\n",
       "      <td>0.108549</td>\n",
       "      <td>0.320607</td>\n",
       "      <td>-0.017122</td>\n",
       "      <td>-0.272137</td>\n",
       "      <td>0.005681</td>\n",
       "      <td>0.327880</td>\n",
       "      <td>1.000000</td>\n",
       "      <td>0.261792</td>\n",
       "    </tr>\n",
       "    <tr>\n",
       "      <th>sqft_lot15</th>\n",
       "      <td>-0.015343</td>\n",
       "      <td>0.185578</td>\n",
       "      <td>-0.085059</td>\n",
       "      <td>0.174493</td>\n",
       "      <td>0.876110</td>\n",
       "      <td>-0.327885</td>\n",
       "      <td>0.059686</td>\n",
       "      <td>0.064389</td>\n",
       "      <td>0.128376</td>\n",
       "      <td>0.041197</td>\n",
       "      <td>0.142624</td>\n",
       "      <td>0.070058</td>\n",
       "      <td>-0.038869</td>\n",
       "      <td>-0.009011</td>\n",
       "      <td>-0.258189</td>\n",
       "      <td>-0.140539</td>\n",
       "      <td>0.247118</td>\n",
       "      <td>0.261792</td>\n",
       "      <td>1.000000</td>\n",
       "    </tr>\n",
       "  </tbody>\n",
       "</table>\n",
       "</div>"
      ],
      "text/plain": [
       "                  price  bedrooms  bathrooms  sqft_living  sqft_lot    floors  \\\n",
       "price          1.000000  0.259247   0.368014     0.588679 -0.011863  0.222641   \n",
       "bedrooms       0.259247  1.000000   0.401071     0.605539  0.197949  0.129669   \n",
       "bathrooms      0.368014  0.401071   1.000000     0.601214 -0.081060  0.509613   \n",
       "sqft_living    0.588679  0.605539   0.601214     1.000000  0.189364  0.349835   \n",
       "sqft_lot      -0.011863  0.197949  -0.081060     0.189364  1.000000 -0.330232   \n",
       "floors         0.222641  0.129669   0.509613     0.349835 -0.330232  1.000000   \n",
       "waterfront     0.147920 -0.012398   0.013272     0.037137  0.052198  0.020119   \n",
       "view           0.315465  0.042589   0.087060     0.182255  0.058469  0.004453   \n",
       "condition      0.061029  0.018669  -0.148387    -0.068627  0.124426 -0.312847   \n",
       "grade          0.605971  0.317316   0.523716     0.684372  0.034649  0.486710   \n",
       "sqft_above     0.474300  0.488162   0.543129     0.842379  0.155057  0.532107   \n",
       "sqft_basement  0.248243  0.254870   0.151774     0.358149  0.075547 -0.286046   \n",
       "yr_built      -0.026851  0.159622   0.465288     0.316917 -0.059662  0.599560   \n",
       "yr_renovated   0.142026  0.017736   0.054965     0.053124 -0.008516 -0.006457   \n",
       "zipcode        0.023852 -0.168711  -0.153690    -0.185671 -0.253470 -0.099614   \n",
       "lat            0.411251 -0.059036  -0.009539     0.015235 -0.144011  0.002330   \n",
       "long          -0.027361  0.157695   0.181221     0.231630  0.241046  0.163951   \n",
       "sqft_living15  0.509550  0.405009   0.435776     0.733602  0.240929  0.284984   \n",
       "sqft_lot15    -0.015343  0.185578  -0.085059     0.174493  0.876110 -0.327885   \n",
       "\n",
       "               waterfront      view  condition     grade  sqft_above  \\\n",
       "price            0.147920  0.315465   0.061029  0.605971    0.474300   \n",
       "bedrooms        -0.012398  0.042589   0.018669  0.317316    0.488162   \n",
       "bathrooms        0.013272  0.087060  -0.148387  0.523716    0.543129   \n",
       "sqft_living      0.037137  0.182255  -0.068627  0.684372    0.842379   \n",
       "sqft_lot         0.052198  0.058469   0.124426  0.034649    0.155057   \n",
       "floors           0.020119  0.004453  -0.312847  0.486710    0.532107   \n",
       "waterfront       1.000000  0.302657   0.001327  0.039762    0.025557   \n",
       "view             0.302657  1.000000   0.029737  0.171682    0.079675   \n",
       "condition        0.001327  0.029737   1.000000 -0.175453   -0.180859   \n",
       "grade            0.039762  0.171682  -0.175453  1.000000    0.680603   \n",
       "sqft_above       0.025557  0.079675  -0.180859  0.680603    1.000000   \n",
       "sqft_basement    0.023221  0.193232   0.188613  0.064742   -0.201441   \n",
       "yr_built        -0.011965 -0.084095  -0.382925  0.452029    0.442557   \n",
       "yr_renovated     0.067685  0.096533  -0.061090  0.016198    0.015573   \n",
       "zipcode          0.033461  0.124624   0.003081 -0.162167   -0.272183   \n",
       "lat             -0.003408  0.029654   0.007629  0.093919   -0.061542   \n",
       "long            -0.003451 -0.098205  -0.103706  0.170896    0.359967   \n",
       "sqft_living15    0.050405  0.213437  -0.110758  0.643492    0.706965   \n",
       "sqft_lot15       0.059686  0.064389   0.128376  0.041197    0.142624   \n",
       "\n",
       "               sqft_basement  yr_built  yr_renovated   zipcode       lat  \\\n",
       "price               0.248243 -0.026851      0.142026  0.023852  0.411251   \n",
       "bedrooms            0.254870  0.159622      0.017736 -0.168711 -0.059036   \n",
       "bathrooms           0.151774  0.465288      0.054965 -0.153690 -0.009539   \n",
       "sqft_living         0.358149  0.316917      0.053124 -0.185671  0.015235   \n",
       "sqft_lot            0.075547 -0.059662     -0.008516 -0.253470 -0.144011   \n",
       "floors             -0.286046  0.599560     -0.006457 -0.099614  0.002330   \n",
       "waterfront          0.023221 -0.011965      0.067685  0.033461 -0.003408   \n",
       "view                0.193232 -0.084095      0.096533  0.124624  0.029654   \n",
       "condition           0.188613 -0.382925     -0.061090  0.003081  0.007629   \n",
       "grade               0.064742  0.452029      0.016198 -0.162167  0.093919   \n",
       "sqft_above         -0.201441  0.442557      0.015573 -0.272183 -0.061542   \n",
       "sqft_basement       1.000000 -0.190727      0.069579  0.134098  0.134319   \n",
       "yr_built           -0.190727  1.000000     -0.221927 -0.346550 -0.180545   \n",
       "yr_renovated        0.069579 -0.221927      1.000000  0.075663  0.039254   \n",
       "zipcode             0.134098 -0.346550      0.075663  1.000000  0.288131   \n",
       "lat                 0.134319 -0.180545      0.039254  0.288131  1.000000   \n",
       "long               -0.202652  0.415124     -0.076045 -0.576286 -0.170516   \n",
       "sqft_living15       0.108549  0.320607     -0.017122 -0.272137  0.005681   \n",
       "sqft_lot15          0.070058 -0.038869     -0.009011 -0.258189 -0.140539   \n",
       "\n",
       "                   long  sqft_living15  sqft_lot15  \n",
       "price         -0.027361       0.509550   -0.015343  \n",
       "bedrooms       0.157695       0.405009    0.185578  \n",
       "bathrooms      0.181221       0.435776   -0.085059  \n",
       "sqft_living    0.231630       0.733602    0.174493  \n",
       "sqft_lot       0.241046       0.240929    0.876110  \n",
       "floors         0.163951       0.284984   -0.327885  \n",
       "waterfront    -0.003451       0.050405    0.059686  \n",
       "view          -0.098205       0.213437    0.064389  \n",
       "condition     -0.103706      -0.110758    0.128376  \n",
       "grade          0.170896       0.643492    0.041197  \n",
       "sqft_above     0.359967       0.706965    0.142624  \n",
       "sqft_basement -0.202652       0.108549    0.070058  \n",
       "yr_built       0.415124       0.320607   -0.038869  \n",
       "yr_renovated  -0.076045      -0.017122   -0.009011  \n",
       "zipcode       -0.576286      -0.272137   -0.258189  \n",
       "lat           -0.170516       0.005681   -0.140539  \n",
       "long           1.000000       0.327880    0.247118  \n",
       "sqft_living15  0.327880       1.000000    0.261792  \n",
       "sqft_lot15     0.247118       0.261792    1.000000  "
      ]
     },
     "execution_count": 49,
     "metadata": {},
     "output_type": "execute_result"
    },
    {
     "data": {
      "image/png": "[encoded data removed]",
      "text/plain": [
       "<Figure size 432x288 with 2 Axes>"
      ]
     },
     "metadata": {
      "needs_background": "light"
     },
     "output_type": "display_data"
    }
   ],
   "source": [
    "sns.heatmap(house_data.corr())\n",
    "\n",
    "house_data.corr()"
   ]
  },
  {
   "cell_type": "markdown",
   "metadata": {
    "id": "vTbdjSrhVIiT"
   },
   "source": [
    "## 6) Implementing the Solution"
   ]
  },
  {
   "cell_type": "markdown",
   "metadata": {},
   "source": [
    "### 6.1) Multiple Linear Regression"
   ]
  },
  {
   "cell_type": "code",
   "execution_count": 50,
   "metadata": {},
   "outputs": [],
   "source": [
    "# Separate the dependent variable from the independent variables\n",
    "X_house_data = house_data[['bedrooms', 'bathrooms', 'sqft_living', 'sqft_lot', 'floors', 'waterfront', 'view', 'condition', 'grade', 'sqft_above', 'sqft_basement', 'yr_built', 'yr_renovated', 'zipcode', 'lat', 'long', 'sqft_living15', 'sqft_lot15']]\n",
    "y_house_data = house_data['price']"
   ]
  },
  {
   "cell_type": "code",
   "execution_count": 51,
   "metadata": {},
   "outputs": [],
   "source": [
    "# Encoding the independent variables to convert all categorical (object) values to numerical\n",
    "encode = ColumnTransformer(transformers=[('encoder', OneHotEncoder(), [0])], remainder='passthrough')\n",
    "X_house_data = np.array(encode.fit_transform(X_house_data))"
   ]
  },
  {
   "cell_type": "code",
   "execution_count": 52,
   "metadata": {},
   "outputs": [],
   "source": [
    "# Splitting the dataset into test and train sets\n",
    "X_train_house_data, X_test_house_data, y_train_house_data, y_test_house_data = train_test_split(X_house_data, y_house_data, test_size = 0.30, random_state = 0)"
   ]
  },
  {
   "cell_type": "code",
   "execution_count": 53,
   "metadata": {},
   "outputs": [],
   "source": [
    "# Perform feature scaling to ensure that the data is normalised\n",
    "sc = StandardScaler()\n",
    "X_train_house_data = sc.fit_transform(X_train_house_data)\n",
    "X_test_house_data = sc.transform(X_test_house_data)"
   ]
  },
  {
   "cell_type": "code",
   "execution_count": 54,
   "metadata": {},
   "outputs": [],
   "source": [
    "# Applying a linear regression model on the training dataset\n",
    "regression_house_data = LinearRegression()\n",
    "regression_house_data.fit(X_train_house_data,y_train_house_data)\n",
    "y_pred_house_data = regression_house_data.predict(X_test_house_data)"
   ]
  },
  {
   "cell_type": "code",
   "execution_count": 55,
   "metadata": {},
   "outputs": [
    {
     "name": "stdout",
     "output_type": "stream",
     "text": [
      "Mean Squared Error: 18995626172.971355\n",
      "Root Mean Squared Error: 0.6721325871839392\n"
     ]
    }
   ],
   "source": [
    "# Checking the perfromance of the model by observing the metrics\n",
    "print('Mean Squared Error:', metrics.mean_squared_error(y_test_house_data, y_pred_house_data))  \n",
    "\n",
    "print('Root Mean Squared Error:', r2_score(y_true=y_test_house_data,y_pred=y_pred_house_data))"
   ]
  },
  {
   "cell_type": "code",
   "execution_count": 56,
   "metadata": {},
   "outputs": [
    {
     "data": {
      "text/html": [
       "<div>\n",
       "<style scoped>\n",
       "    .dataframe tbody tr th:only-of-type {\n",
       "        vertical-align: middle;\n",
       "    }\n",
       "\n",
       "    .dataframe tbody tr th {\n",
       "        vertical-align: top;\n",
       "    }\n",
       "\n",
       "    .dataframe thead th {\n",
       "        text-align: right;\n",
       "    }\n",
       "</style>\n",
       "<table border=\"1\" class=\"dataframe\">\n",
       "  <thead>\n",
       "    <tr style=\"text-align: right;\">\n",
       "      <th></th>\n",
       "      <th>Actual</th>\n",
       "      <th>Predicted</th>\n",
       "    </tr>\n",
       "  </thead>\n",
       "  <tbody>\n",
       "    <tr>\n",
       "      <th>count</th>\n",
       "      <td>5.288000e+03</td>\n",
       "      <td>5.288000e+03</td>\n",
       "    </tr>\n",
       "    <tr>\n",
       "      <th>mean</th>\n",
       "      <td>4.795650e+05</td>\n",
       "      <td>4.791376e+05</td>\n",
       "    </tr>\n",
       "    <tr>\n",
       "      <th>std</th>\n",
       "      <td>2.407236e+05</td>\n",
       "      <td>2.057894e+05</td>\n",
       "    </tr>\n",
       "    <tr>\n",
       "      <th>min</th>\n",
       "      <td>8.300000e+04</td>\n",
       "      <td>-8.095547e+04</td>\n",
       "    </tr>\n",
       "    <tr>\n",
       "      <th>25%</th>\n",
       "      <td>3.100000e+05</td>\n",
       "      <td>3.367085e+05</td>\n",
       "    </tr>\n",
       "    <tr>\n",
       "      <th>50%</th>\n",
       "      <td>4.266000e+05</td>\n",
       "      <td>4.643565e+05</td>\n",
       "    </tr>\n",
       "    <tr>\n",
       "      <th>75%</th>\n",
       "      <td>5.850000e+05</td>\n",
       "      <td>6.005805e+05</td>\n",
       "    </tr>\n",
       "    <tr>\n",
       "      <th>max</th>\n",
       "      <td>2.250000e+06</td>\n",
       "      <td>1.627525e+06</td>\n",
       "    </tr>\n",
       "  </tbody>\n",
       "</table>\n",
       "</div>"
      ],
      "text/plain": [
       "             Actual     Predicted\n",
       "count  5.288000e+03  5.288000e+03\n",
       "mean   4.795650e+05  4.791376e+05\n",
       "std    2.407236e+05  2.057894e+05\n",
       "min    8.300000e+04 -8.095547e+04\n",
       "25%    3.100000e+05  3.367085e+05\n",
       "50%    4.266000e+05  4.643565e+05\n",
       "75%    5.850000e+05  6.005805e+05\n",
       "max    2.250000e+06  1.627525e+06"
      ]
     },
     "execution_count": 56,
     "metadata": {},
     "output_type": "execute_result"
    }
   ],
   "source": [
    "# Use the linear model to predict the prices of the houses using the training set\n",
    "actual_vs_predicted = pd.DataFrame({'Actual': np.round(y_test_house_data,2), 'Predicted': np.round(y_pred_house_data,2)})\n",
    "\n",
    "actual_vs_predicted.describe()"
   ]
  },
  {
   "cell_type": "markdown",
   "metadata": {},
   "source": [
    "### 6.2) Ridge Regression"
   ]
  },
  {
   "cell_type": "code",
   "execution_count": 23,
   "metadata": {},
   "outputs": [],
   "source": [
    "# Splitting the dataset into test and train sets\n",
    "X_train_house_data_ridge, X_test_house_data_ridge, y_train_house_data_ridge, y_test_house_data_ridge = train_test_split(X_house_data, y_house_data, test_size = 0.30, random_state = 0)"
   ]
  },
  {
   "cell_type": "code",
   "execution_count": 24,
   "metadata": {},
   "outputs": [],
   "source": [
    "# Perform feature scaling to ensure that the data is normalised\n",
    "sc = StandardScaler()\n",
    "X_train_house_data_ridge = sc.fit_transform(X_train_house_data_ridge)\n",
    "X_test_house_data_ridge = sc.transform(X_test_house_data_ridge)"
   ]
  },
  {
   "cell_type": "code",
   "execution_count": 25,
   "metadata": {},
   "outputs": [
    {
     "name": "stdout",
     "output_type": "stream",
     "text": [
      "Mean Squared Error: 18953533180.97947\n",
      "Root Mean Squared Error: 0.6728591186631544\n"
     ]
    }
   ],
   "source": [
    "# Applying ridge regression on the training dataset\n",
    "\n",
    "# Model the data\n",
    "ridge_house_data = Ridge(normalize=True,alpha=0.01)\n",
    "ridge_house_data.fit(X_train_house_data_ridge,y_train_house_data_ridge)\n",
    "\n",
    "# Make a prediction with the ridge regression model on the dataset\n",
    "y_pred_house_data_ridge = ridge_house_data.predict(X_test_house_data_ridge)\n",
    "\n",
    "# Checking the metrics for the model\n",
    "print('Mean Squared Error:', metrics.mean_squared_error(y_test_house_data_ridge, y_pred_house_data_ridge))  \n",
    "\n",
    "print('Root Mean Squared Error:', r2_score(y_true=y_test_house_data_ridge,y_pred=y_pred_house_data_ridge))"
   ]
  },
  {
   "cell_type": "code",
   "execution_count": 26,
   "metadata": {},
   "outputs": [
    {
     "data": {
      "text/html": [
       "<div>\n",
       "<style scoped>\n",
       "    .dataframe tbody tr th:only-of-type {\n",
       "        vertical-align: middle;\n",
       "    }\n",
       "\n",
       "    .dataframe tbody tr th {\n",
       "        vertical-align: top;\n",
       "    }\n",
       "\n",
       "    .dataframe thead th {\n",
       "        text-align: right;\n",
       "    }\n",
       "</style>\n",
       "<table border=\"1\" class=\"dataframe\">\n",
       "  <thead>\n",
       "    <tr style=\"text-align: right;\">\n",
       "      <th></th>\n",
       "      <th>Actual</th>\n",
       "      <th>Predicted</th>\n",
       "    </tr>\n",
       "  </thead>\n",
       "  <tbody>\n",
       "    <tr>\n",
       "      <th>count</th>\n",
       "      <td>5.288000e+03</td>\n",
       "      <td>5.288000e+03</td>\n",
       "    </tr>\n",
       "    <tr>\n",
       "      <th>mean</th>\n",
       "      <td>4.795650e+05</td>\n",
       "      <td>4.810189e+05</td>\n",
       "    </tr>\n",
       "    <tr>\n",
       "      <th>std</th>\n",
       "      <td>2.407236e+05</td>\n",
       "      <td>2.034639e+05</td>\n",
       "    </tr>\n",
       "    <tr>\n",
       "      <th>min</th>\n",
       "      <td>8.300000e+04</td>\n",
       "      <td>-7.966478e+04</td>\n",
       "    </tr>\n",
       "    <tr>\n",
       "      <th>25%</th>\n",
       "      <td>3.100000e+05</td>\n",
       "      <td>3.409585e+05</td>\n",
       "    </tr>\n",
       "    <tr>\n",
       "      <th>50%</th>\n",
       "      <td>4.266000e+05</td>\n",
       "      <td>4.672954e+05</td>\n",
       "    </tr>\n",
       "    <tr>\n",
       "      <th>75%</th>\n",
       "      <td>5.850000e+05</td>\n",
       "      <td>6.014324e+05</td>\n",
       "    </tr>\n",
       "    <tr>\n",
       "      <th>max</th>\n",
       "      <td>2.250000e+06</td>\n",
       "      <td>1.621298e+06</td>\n",
       "    </tr>\n",
       "  </tbody>\n",
       "</table>\n",
       "</div>"
      ],
      "text/plain": [
       "             Actual     Predicted\n",
       "count  5.288000e+03  5.288000e+03\n",
       "mean   4.795650e+05  4.810189e+05\n",
       "std    2.407236e+05  2.034639e+05\n",
       "min    8.300000e+04 -7.966478e+04\n",
       "25%    3.100000e+05  3.409585e+05\n",
       "50%    4.266000e+05  4.672954e+05\n",
       "75%    5.850000e+05  6.014324e+05\n",
       "max    2.250000e+06  1.621298e+06"
      ]
     },
     "execution_count": 26,
     "metadata": {},
     "output_type": "execute_result"
    }
   ],
   "source": [
    "actual_vs_predicted_ridge = pd.DataFrame({'Actual': np.round(y_test_house_data_ridge,2), 'Predicted': np.round(y_pred_house_data_ridge,2)})\n",
    "\n",
    "actual_vs_predicted_ridge.describe()"
   ]
  },
  {
   "cell_type": "markdown",
   "metadata": {},
   "source": [
    "### 6.3) Lasso Regression"
   ]
  },
  {
   "cell_type": "code",
   "execution_count": 27,
   "metadata": {},
   "outputs": [],
   "source": [
    "# Encoding the independent variables to convert all categorical (object) values to numerical\n",
    "encode = ColumnTransformer(transformers=[('encoder', OneHotEncoder(), [0])], remainder='passthrough')\n",
    "X_house_data = np.array(encode.fit_transform(X_house_data))"
   ]
  },
  {
   "cell_type": "code",
   "execution_count": 28,
   "metadata": {},
   "outputs": [],
   "source": [
    "# Splitting the dataset into test and train sets\n",
    "X_train_house_data_lasso, X_test_house_data_lasso, y_train_house_data_lasso, y_test_house_data_lasso = train_test_split(X_house_data, y_house_data, test_size = 0.30, random_state = 0)"
   ]
  },
  {
   "cell_type": "code",
   "execution_count": 29,
   "metadata": {},
   "outputs": [],
   "source": [
    "# Perform feature scaling to ensure that the data is normalised\n",
    "sc = StandardScaler()\n",
    "X_train_house_data_lasso = sc.fit_transform(X_train_house_data_lasso)\n",
    "X_test_house_data_lasso = sc.transform(X_test_house_data_lasso)"
   ]
  },
  {
   "cell_type": "code",
   "execution_count": 30,
   "metadata": {},
   "outputs": [
    {
     "name": "stdout",
     "output_type": "stream",
     "text": [
      "Mean Squared Error: 18956585973.884823\n",
      "Root Mean Squared Error: 0.6728064269907332\n"
     ]
    }
   ],
   "source": [
    "# Applying lasso regression and a grid search on the training dataset\n",
    "parameters = {'alpha': np.concatenate((np.arange(0.1,2,0.1), np.arange(2, 5, 0.5), np.arange(5, 25, 1)))}\n",
    "lasso = linear_model.Lasso(tol = 0.0001) \n",
    "gridlasso = GridSearchCV(lasso, parameters, scoring ='r2') \n",
    "\n",
    "# Fitting models and print the best parameters, R-squared scores, MSE, and coefficients\n",
    "gridlasso.fit(X_train_house_data_lasso, y_train_house_data_lasso)\n",
    "\n",
    "# Checking the metrics for the model\n",
    "print('Mean Squared Error:', metrics.mean_squared_error(y_test_house_data_lasso, gridlasso.predict(X_test_house_data_lasso)))  \n",
    "\n",
    "print('Root Mean Squared Error:', r2_score(y_true=y_test_house_data_lasso,y_pred=gridlasso.predict(X_test_house_data_lasso)))"
   ]
  },
  {
   "cell_type": "code",
   "execution_count": 31,
   "metadata": {},
   "outputs": [
    {
     "data": {
      "text/html": [
       "<div>\n",
       "<style scoped>\n",
       "    .dataframe tbody tr th:only-of-type {\n",
       "        vertical-align: middle;\n",
       "    }\n",
       "\n",
       "    .dataframe tbody tr th {\n",
       "        vertical-align: top;\n",
       "    }\n",
       "\n",
       "    .dataframe thead th {\n",
       "        text-align: right;\n",
       "    }\n",
       "</style>\n",
       "<table border=\"1\" class=\"dataframe\">\n",
       "  <thead>\n",
       "    <tr style=\"text-align: right;\">\n",
       "      <th></th>\n",
       "      <th>Actual</th>\n",
       "      <th>Predicted</th>\n",
       "    </tr>\n",
       "  </thead>\n",
       "  <tbody>\n",
       "    <tr>\n",
       "      <th>count</th>\n",
       "      <td>5.288000e+03</td>\n",
       "      <td>5.288000e+03</td>\n",
       "    </tr>\n",
       "    <tr>\n",
       "      <th>mean</th>\n",
       "      <td>4.795650e+05</td>\n",
       "      <td>4.810301e+05</td>\n",
       "    </tr>\n",
       "    <tr>\n",
       "      <th>std</th>\n",
       "      <td>2.407236e+05</td>\n",
       "      <td>2.047365e+05</td>\n",
       "    </tr>\n",
       "    <tr>\n",
       "      <th>min</th>\n",
       "      <td>8.300000e+04</td>\n",
       "      <td>-8.357293e+04</td>\n",
       "    </tr>\n",
       "    <tr>\n",
       "      <th>25%</th>\n",
       "      <td>3.100000e+05</td>\n",
       "      <td>3.396516e+05</td>\n",
       "    </tr>\n",
       "    <tr>\n",
       "      <th>50%</th>\n",
       "      <td>4.266000e+05</td>\n",
       "      <td>4.671433e+05</td>\n",
       "    </tr>\n",
       "    <tr>\n",
       "      <th>75%</th>\n",
       "      <td>5.850000e+05</td>\n",
       "      <td>6.017906e+05</td>\n",
       "    </tr>\n",
       "    <tr>\n",
       "      <th>max</th>\n",
       "      <td>2.250000e+06</td>\n",
       "      <td>1.629688e+06</td>\n",
       "    </tr>\n",
       "  </tbody>\n",
       "</table>\n",
       "</div>"
      ],
      "text/plain": [
       "             Actual     Predicted\n",
       "count  5.288000e+03  5.288000e+03\n",
       "mean   4.795650e+05  4.810301e+05\n",
       "std    2.407236e+05  2.047365e+05\n",
       "min    8.300000e+04 -8.357293e+04\n",
       "25%    3.100000e+05  3.396516e+05\n",
       "50%    4.266000e+05  4.671433e+05\n",
       "75%    5.850000e+05  6.017906e+05\n",
       "max    2.250000e+06  1.629688e+06"
      ]
     },
     "execution_count": 31,
     "metadata": {},
     "output_type": "execute_result"
    }
   ],
   "source": [
    "# Show the actual vs the predcted values\n",
    "actual_vs_predicted_lasso = pd.DataFrame({'Actual': np.round(y_test_house_data_lasso,2), 'Predicted': np.round(gridlasso.predict(X_test_house_data_lasso),2)})\n",
    "\n",
    "actual_vs_predicted_lasso.describe()"
   ]
  },
  {
   "cell_type": "markdown",
   "metadata": {},
   "source": [
    "### 6.4) Elastic Net Regression"
   ]
  },
  {
   "cell_type": "code",
   "execution_count": 32,
   "metadata": {},
   "outputs": [],
   "source": [
    "# Splitting the dataset into test and train sets\n",
    "X_train_house_data_elastic, X_test_house_data_elastic, y_train_house_data_elastic, y_test_house_data_elastic = train_test_split(X_house_data, y_house_data, test_size = 0.30, random_state = 0)"
   ]
  },
  {
   "cell_type": "code",
   "execution_count": 33,
   "metadata": {},
   "outputs": [],
   "source": [
    "# Perform feature scaling to ensure that the data is normalised\n",
    "sc = StandardScaler()\n",
    "X_train_house_data_elastic = sc.fit_transform(X_train_house_data_elastic)\n",
    "X_test_house_data_elastic = sc.transform(X_test_house_data_elastic)"
   ]
  },
  {
   "cell_type": "code",
   "execution_count": 34,
   "metadata": {},
   "outputs": [
    {
     "name": "stdout",
     "output_type": "stream",
     "text": [
      "Best parameters:{'alpha': 1e-05, 'l1_ratio': 0.8}\n",
      "Best score:19938413404.724213\n"
     ]
    }
   ],
   "source": [
    "# Applying elasctic net regression on the training dataset\n",
    "\n",
    "# Model the data\n",
    "elastic_house_data=ElasticNet(normalize=True)\n",
    "search=GridSearchCV(estimator=elastic_house_data,param_grid={'alpha':np.logspace(-5,2,8),'l1_ratio':[.2,.4,.6,.8]},scoring='neg_mean_squared_error',n_jobs=1,refit=True,cv=10)\n",
    "\n",
    "# We will now fit the model and display the best parameters and the best results for that setup.\n",
    "search.fit(X_train_house_data_elastic,y_train_house_data_elastic)\n",
    "best_parameters = search.best_params_\n",
    "print('Best parameters:' + str(best_parameters))\n",
    "print('Best score:' + str(abs(search.best_score_)))"
   ]
  },
  {
   "cell_type": "code",
   "execution_count": 35,
   "metadata": {},
   "outputs": [
    {
     "data": {
      "text/plain": [
       "ElasticNet(alpha=1e-05, copy_X=True, fit_intercept=True, l1_ratio=0.8,\n",
       "           max_iter=1000, normalize=True, positive=False, precompute=False,\n",
       "           random_state=None, selection='cyclic', tol=0.0001, warm_start=False)"
      ]
     },
     "execution_count": 35,
     "metadata": {},
     "output_type": "execute_result"
    }
   ],
   "source": [
    "# Remodel the data using the new parameters\n",
    "elastic_house_data=ElasticNet(normalize=True,alpha=0.00001,l1_ratio=0.8)\n",
    "elastic_house_data.fit(X_train_house_data_elastic,y_train_house_data_elastic)"
   ]
  },
  {
   "cell_type": "code",
   "execution_count": 36,
   "metadata": {},
   "outputs": [
    {
     "name": "stdout",
     "output_type": "stream",
     "text": [
      "Mean Squared Error: 18959154188.790886\n",
      "Root Mean Squared Error: 0.672762099208688\n"
     ]
    }
   ],
   "source": [
    "# Make a prediction with the elastic net regression model on the dataset\n",
    "y_pred_house_data_elastic = elastic_house_data.predict(X_test_house_data_elastic)\n",
    "\n",
    "# Checking the metrics for the model after adding the new parameters\n",
    "print('Mean Squared Error:', metrics.mean_squared_error(y_test_house_data_elastic, y_pred_house_data_elastic))  \n",
    "\n",
    "print('Root Mean Squared Error:', r2_score(y_true=y_test_house_data_elastic,y_pred=y_pred_house_data_elastic))"
   ]
  },
  {
   "cell_type": "code",
   "execution_count": 37,
   "metadata": {},
   "outputs": [
    {
     "data": {
      "text/html": [
       "<div>\n",
       "<style scoped>\n",
       "    .dataframe tbody tr th:only-of-type {\n",
       "        vertical-align: middle;\n",
       "    }\n",
       "\n",
       "    .dataframe tbody tr th {\n",
       "        vertical-align: top;\n",
       "    }\n",
       "\n",
       "    .dataframe thead th {\n",
       "        text-align: right;\n",
       "    }\n",
       "</style>\n",
       "<table border=\"1\" class=\"dataframe\">\n",
       "  <thead>\n",
       "    <tr style=\"text-align: right;\">\n",
       "      <th></th>\n",
       "      <th>Actual</th>\n",
       "      <th>Predicted</th>\n",
       "    </tr>\n",
       "  </thead>\n",
       "  <tbody>\n",
       "    <tr>\n",
       "      <th>count</th>\n",
       "      <td>5.288000e+03</td>\n",
       "      <td>5.288000e+03</td>\n",
       "    </tr>\n",
       "    <tr>\n",
       "      <th>mean</th>\n",
       "      <td>4.795650e+05</td>\n",
       "      <td>4.810017e+05</td>\n",
       "    </tr>\n",
       "    <tr>\n",
       "      <th>std</th>\n",
       "      <td>2.407236e+05</td>\n",
       "      <td>2.016508e+05</td>\n",
       "    </tr>\n",
       "    <tr>\n",
       "      <th>min</th>\n",
       "      <td>8.300000e+04</td>\n",
       "      <td>-7.405107e+04</td>\n",
       "    </tr>\n",
       "    <tr>\n",
       "      <th>25%</th>\n",
       "      <td>3.100000e+05</td>\n",
       "      <td>3.420663e+05</td>\n",
       "    </tr>\n",
       "    <tr>\n",
       "      <th>50%</th>\n",
       "      <td>4.266000e+05</td>\n",
       "      <td>4.674278e+05</td>\n",
       "    </tr>\n",
       "    <tr>\n",
       "      <th>75%</th>\n",
       "      <td>5.850000e+05</td>\n",
       "      <td>6.000026e+05</td>\n",
       "    </tr>\n",
       "    <tr>\n",
       "      <th>max</th>\n",
       "      <td>2.250000e+06</td>\n",
       "      <td>1.608731e+06</td>\n",
       "    </tr>\n",
       "  </tbody>\n",
       "</table>\n",
       "</div>"
      ],
      "text/plain": [
       "             Actual     Predicted\n",
       "count  5.288000e+03  5.288000e+03\n",
       "mean   4.795650e+05  4.810017e+05\n",
       "std    2.407236e+05  2.016508e+05\n",
       "min    8.300000e+04 -7.405107e+04\n",
       "25%    3.100000e+05  3.420663e+05\n",
       "50%    4.266000e+05  4.674278e+05\n",
       "75%    5.850000e+05  6.000026e+05\n",
       "max    2.250000e+06  1.608731e+06"
      ]
     },
     "execution_count": 37,
     "metadata": {},
     "output_type": "execute_result"
    }
   ],
   "source": [
    "actual_vs_predicted_elastic = pd.DataFrame({'Actual': np.round(y_test_house_data_elastic,2), 'Predicted': np.round(y_pred_house_data_elastic,2)})\n",
    "\n",
    "actual_vs_predicted_elastic.describe()"
   ]
  },
  {
   "cell_type": "markdown",
   "metadata": {},
   "source": [
    "### 6.5) Quantile Regression"
   ]
  },
  {
   "cell_type": "markdown",
   "metadata": {},
   "source": [
    "### 6.5.1) Bedrooms"
   ]
  },
  {
   "cell_type": "code",
   "execution_count": 114,
   "metadata": {},
   "outputs": [
    {
     "name": "stdout",
     "output_type": "stream",
     "text": [
      "\n",
      "*************************Outline the parameters for the 0.1th to 0.9th quantiles*************************\n",
      "\n",
      "    qt      intercept         x_coef  cf_lower_bound  cf_upper_bound\n",
      "0  0.1  120875.070023   38024.976662    35210.185089    40839.768235\n",
      "1  0.2  143333.333371   44333.333315    41216.026060    47450.640569\n",
      "2  0.3  176757.017334   47747.661011    43826.547494    51668.774527\n",
      "3  0.4  201000.000000   55500.000000    51023.643041    59976.356959\n",
      "4  0.5  220000.000001   65000.000000    60120.448149    69879.551851\n",
      "5  0.6  243000.052200   75499.986944    70021.299774    80978.674115\n",
      "6  0.7  247000.000000   94500.000000    88608.511671   100391.488329\n",
      "7  0.8  275000.000000  110000.000000   102569.055098   117430.944902\n",
      "8  0.9  322200.000000  132600.000000   122858.648320   142341.351679\n",
      "\n",
      "*************************Outline the root mean square for the 0.1th to 0.9th quantiles*************************\n",
      "\n",
      "Root Mean Squared Error 1: -0.862130389446299\n",
      "Root Mean Squared Error 2: -0.5535288128030251\n",
      "Root Mean Squared Error 3: -0.3018418924768618\n",
      "Root Mean Squared Error 4: -0.09674034916799967\n",
      "Root Mean Squared Error 5: 0.027277311838675655\n",
      "Root Mean Squared Error 6: 0.06518383163806185\n",
      "Root Mean Squared Error 7: -0.030416173633864174\n",
      "Root Mean Squared Error 8: -0.3375417021431537\n",
      "Root Mean Squared Error 9: -1.2184508758519712\n",
      "\n",
      "*************************Plot 0.1th to 0.9th quantile models against original data*************************\n",
      "\n"
     ]
    },
    {
     "data": {
      "text/plain": [
       "<matplotlib.legend.Legend at 0x12fb96f6b08>"
      ]
     },
     "execution_count": 114,
     "metadata": {},
     "output_type": "execute_result"
    },
    {
     "data": {
      "image/png": "[encoded data removed]",
      "text/plain": [
       "<Figure size 432x288 with 1 Axes>"
      ]
     },
     "metadata": {},
     "output_type": "display_data"
    }
   ],
   "source": [
    "# Finding the regression coefficients for quantiles \n",
    "house_data_quantile = pd.DataFrame({'x':house_data['bedrooms'], 'y':house_data['price']})\n",
    "mod = smf.quantreg('y~x', data = house_data_quantile)\n",
    "\n",
    "# Define models for several quantiles\n",
    "quantiles = np.arange(0.1,1,0.1)\n",
    "models = []\n",
    "params = []\n",
    "\n",
    "# We build models for each quantile in our list quantiles inside a for loop\n",
    "# As we build these models we also store the model parameters in a list called params. \n",
    "for qt in quantiles: \n",
    "    res = mod.fit(q = qt )\n",
    "    models.append(res)\n",
    "    params.append([qt, res.params['Intercept'], res.params['x']] + res.conf_int().loc['x'].tolist())\n",
    "\n",
    "print('\\n*************************Outline the parameters for the 0.1th to 0.9th quantiles*************************\\n')\n",
    "# Lastly we make a dataframe of the same name, so we we can view our different models.\n",
    "params = pd.DataFrame(data = params, columns = ['qt', 'intercept', 'x_coef', 'cf_lower_bound', 'cf_upper_bound'])\n",
    "print(params)\n",
    "\n",
    "print('\\n*************************Outline the root mean square for the 0.1th to 0.9th quantiles*************************\\n')\n",
    "# Let us now plot 0.1th to 0.9th quantile models against our original data.\n",
    "y_pred1 = models[0].params['Intercept'] + models[0].params['x'] * house_data['bedrooms']\n",
    "y_pred2 = models[1].params['Intercept'] + models[1].params['x'] * house_data['bedrooms']\n",
    "y_pred3 = models[2].params['Intercept'] + models[2].params['x'] * house_data['bedrooms']\n",
    "y_pred4 = models[3].params['Intercept'] + models[3].params['x'] * house_data['bedrooms']\n",
    "y_pred5 = models[4].params['Intercept'] + models[4].params['x'] * house_data['bedrooms']\n",
    "y_pred6 = models[5].params['Intercept'] + models[5].params['x'] * house_data['bedrooms']\n",
    "y_pred7 = models[6].params['Intercept'] + models[6].params['x'] * house_data['bedrooms']\n",
    "y_pred8 = models[7].params['Intercept'] + models[7].params['x'] * house_data['bedrooms']\n",
    "y_pred9 = models[8].params['Intercept'] + models[8].params['x'] * house_data['bedrooms']\n",
    "\n",
    "print('Root Mean Squared Error 1:', r2_score(y_true=house_data['price'], y_pred=y_pred1))\n",
    "print('Root Mean Squared Error 2:', r2_score(y_true=house_data['price'], y_pred=y_pred2))\n",
    "print('Root Mean Squared Error 3:', r2_score(y_true=house_data['price'], y_pred=y_pred3))\n",
    "print('Root Mean Squared Error 4:', r2_score(y_true=house_data['price'], y_pred=y_pred4))\n",
    "print('Root Mean Squared Error 5:', r2_score(y_true=house_data['price'], y_pred=y_pred5))\n",
    "print('Root Mean Squared Error 6:', r2_score(y_true=house_data['price'], y_pred=y_pred6))\n",
    "print('Root Mean Squared Error 7:', r2_score(y_true=house_data['price'], y_pred=y_pred7))\n",
    "print('Root Mean Squared Error 8:', r2_score(y_true=house_data['price'], y_pred=y_pred8))\n",
    "print('Root Mean Squared Error 9:', r2_score(y_true=house_data['price'], y_pred=y_pred9))\n",
    "\n",
    "## Let us now plot 0.1th, 0.5th and 0.9th quantile models against our original data.\n",
    "#\n",
    "print('\\n*************************Plot 0.1th to 0.9th quantile models against original data*************************\\n')\n",
    "plt.figure(5)\n",
    "plt.scatter(house_data['bedrooms'], house_data['price'],  color='black')\n",
    "\n",
    "plt.plot(house_data['bedrooms'], y_pred1, color='blue',\n",
    "         linewidth=3, label='Q Reg : 0.1')\n",
    "plt.plot(house_data['bedrooms'], y_pred2, color='orange',\n",
    "         linewidth=3, label='Q Reg : 0.2')\n",
    "plt.plot(house_data['bedrooms'], y_pred3, color='green',\n",
    "         linewidth=3, label='Q Reg : 0.3')\n",
    "plt.plot(house_data['bedrooms'], y_pred4, color='red',\n",
    "         linewidth=3, label='Q Reg : 0.4')\n",
    "plt.plot(house_data['bedrooms'], y_pred5, color='purple',\n",
    "         linewidth=3, label='Q Reg : 0.5')\n",
    "plt.plot(house_data['bedrooms'], y_pred6, color='brown',\n",
    "         linewidth=3, label='Q Reg : 0.6')\n",
    "plt.plot(house_data['bedrooms'], y_pred7, color='pink',\n",
    "         linewidth=3, label='Q Reg : 0.7')\n",
    "plt.plot(house_data['bedrooms'], y_pred8, color='olive',\n",
    "         linewidth=3, label='Q Reg : 0.8')\n",
    "plt.plot(house_data['bedrooms'], y_pred9, color='cyan',\n",
    "         linewidth=3, label='Q Reg : 0.9')\n",
    "plt.xticks(())\n",
    "plt.yticks(())\n",
    "plt.xlabel(\"Bedrooms\")\n",
    "plt.ylabel(\"y and predicted y\")\n",
    "plt.title(\"Quantile regression on data with non-constant variance\")\n",
    "plt.legend()\n",
    "\n",
    "# Linear regression is plotted with the blue colored line. \n",
    "# We can compare that model with other quantile models."
   ]
  },
  {
   "cell_type": "markdown",
   "metadata": {},
   "source": [
    "### 6.5.2) Bathrooms"
   ]
  },
  {
   "cell_type": "code",
   "execution_count": 120,
   "metadata": {},
   "outputs": [
    {
     "name": "stdout",
     "output_type": "stream",
     "text": [
      "\n",
      "*************************Outline the parameters for the 0.1th to 0.9th quantiles*************************\n",
      "\n",
      "    qt      intercept         x_coef  cf_lower_bound  cf_upper_bound\n",
      "0  0.1  133999.999974   71500.000026    68209.223477    74790.776575\n",
      "1  0.2  155050.000004   84949.999998    81221.296058    88678.703939\n",
      "2  0.3  178000.000001   97000.000000    92187.012865   101812.987134\n",
      "3  0.4  205900.000000  109550.000000   104156.465121   114943.534879\n",
      "4  0.5  232199.999999  122800.000001   116740.529112   128859.470890\n",
      "5  0.6  261112.000017  138887.999992   132497.886071   145278.113913\n",
      "6  0.7  294000.000004  155999.999995   148432.032347   163567.967643\n",
      "7  0.8  345000.000002  174999.999998   165373.906923   184626.093073\n",
      "8  0.9  404999.999997  215000.000001   200348.940919   229651.059082\n",
      "\n",
      "*************************Outline the root mean square for the 0.1th to 0.9th quantiles*************************\n",
      "\n",
      "Root Mean Squared Error 1: -0.7608552735883536\n",
      "Root Mean Squared Error 2: -0.4543014949941595\n",
      "Root Mean Squared Error 3: -0.21448645647091058\n",
      "Root Mean Squared Error 4: -0.01833752032052427\n",
      "Root Mean Squared Error 5: 0.0975064524992767\n",
      "Root Mean Squared Error 6: 0.13352929634007726\n",
      "Root Mean Squared Error 7: 0.05208505254718676\n",
      "Root Mean Squared Error 8: -0.25655501418045934\n",
      "Root Mean Squared Error 9: -1.1792206746866047\n",
      "\n",
      "*************************Plot 0.1th to 0.9th quantile models against original data*************************\n",
      "\n"
     ]
    },
    {
     "data": {
      "text/plain": [
       "<matplotlib.legend.Legend at 0x12fadaaaf08>"
      ]
     },
     "execution_count": 120,
     "metadata": {},
     "output_type": "execute_result"
    },
    {
     "data": {
      "image/png": "[encoded data removed]",
      "text/plain": [
       "<Figure size 432x288 with 1 Axes>"
      ]
     },
     "metadata": {},
     "output_type": "display_data"
    }
   ],
   "source": [
    "# Finding the regression coefficients for quantiles \n",
    "house_data_quantile = pd.DataFrame({'x':house_data['bathrooms'], 'y':house_data['price']})\n",
    "mod = smf.quantreg('y~x', data = house_data_quantile)\n",
    "\n",
    "# Define models for several quantiles\n",
    "quantiles = np.arange(0.1,1,0.1)\n",
    "models = []\n",
    "params = []\n",
    "\n",
    "# We build models for each quantile in our list quantiles inside a for loop\n",
    "# As we build these models we also store the model parameters in a list called params. \n",
    "for qt in quantiles: \n",
    "    res = mod.fit(q = qt )\n",
    "    models.append(res)\n",
    "    params.append([qt, res.params['Intercept'], res.params['x']] + res.conf_int().loc['x'].tolist())\n",
    "\n",
    "print('\\n*************************Outline the parameters for the 0.1th to 0.9th quantiles*************************\\n')\n",
    "# Lastly we make a dataframe of the same name, so we we can view our different models.\n",
    "params = pd.DataFrame(data = params, columns = ['qt', 'intercept', 'x_coef', 'cf_lower_bound', 'cf_upper_bound'])\n",
    "print(params)\n",
    "\n",
    "print('\\n*************************Outline the root mean square for the 0.1th to 0.9th quantiles*************************\\n')\n",
    "# Let us now plot 0.1th to 0.9th quantile models against our original data.\n",
    "y_pred1_bathrooms = models[0].params['Intercept'] + models[0].params['x'] * house_data['bathrooms']\n",
    "y_pred2_bathrooms = models[1].params['Intercept'] + models[1].params['x'] * house_data['bathrooms']\n",
    "y_pred3_bathrooms = models[2].params['Intercept'] + models[2].params['x'] * house_data['bathrooms']\n",
    "y_pred4_bathrooms = models[3].params['Intercept'] + models[3].params['x'] * house_data['bathrooms']\n",
    "y_pred5_bathrooms = models[4].params['Intercept'] + models[4].params['x'] * house_data['bathrooms']\n",
    "y_pred6_bathrooms = models[5].params['Intercept'] + models[5].params['x'] * house_data['bathrooms']\n",
    "y_pred7_bathrooms = models[6].params['Intercept'] + models[6].params['x'] * house_data['bathrooms']\n",
    "y_pred8_bathrooms = models[7].params['Intercept'] + models[7].params['x'] * house_data['bathrooms']\n",
    "y_pred9_bathrooms = models[8].params['Intercept'] + models[8].params['x'] * house_data['bathrooms']\n",
    "\n",
    "print('Root Mean Squared Error 1:', r2_score(y_true=house_data['price'], y_pred=y_pred1_bathrooms))\n",
    "print('Root Mean Squared Error 2:', r2_score(y_true=house_data['price'], y_pred=y_pred2_bathrooms))\n",
    "print('Root Mean Squared Error 3:', r2_score(y_true=house_data['price'], y_pred=y_pred3_bathrooms))\n",
    "print('Root Mean Squared Error 4:', r2_score(y_true=house_data['price'], y_pred=y_pred4_bathrooms))\n",
    "print('Root Mean Squared Error 5:', r2_score(y_true=house_data['price'], y_pred=y_pred5_bathrooms))\n",
    "print('Root Mean Squared Error 6:', r2_score(y_true=house_data['price'], y_pred=y_pred6_bathrooms))\n",
    "print('Root Mean Squared Error 7:', r2_score(y_true=house_data['price'], y_pred=y_pred7_bathrooms))\n",
    "print('Root Mean Squared Error 8:', r2_score(y_true=house_data['price'], y_pred=y_pred8_bathrooms))\n",
    "print('Root Mean Squared Error 9:', r2_score(y_true=house_data['price'], y_pred=y_pred9_bathrooms))\n",
    "\n",
    "## Let us now plot 0.1th, 0.5th and 0.9th quantile models against our original data.\n",
    "#\n",
    "print('\\n*************************Plot 0.1th to 0.9th quantile models against original data*************************\\n')\n",
    "plt.figure(5)\n",
    "plt.scatter(house_data['bathrooms'], house_data['price'],  color='black')\n",
    "\n",
    "plt.plot(house_data['bathrooms'], y_pred1_bathrooms, color='blue',\n",
    "         linewidth=3, label='Q Reg : 0.1')\n",
    "plt.plot(house_data['bathrooms'], y_pred2_bathrooms, color='orange',\n",
    "         linewidth=3, label='Q Reg : 0.2')\n",
    "plt.plot(house_data['bathrooms'], y_pred3_bathrooms, color='green',\n",
    "         linewidth=3, label='Q Reg : 0.3')\n",
    "plt.plot(house_data['bathrooms'], y_pred4_bathrooms, color='red',\n",
    "         linewidth=3, label='Q Reg : 0.4')\n",
    "plt.plot(house_data['bathrooms'], y_pred5_bathrooms, color='purple',\n",
    "         linewidth=3, label='Q Reg : 0.5')\n",
    "plt.plot(house_data['bathrooms'], y_pred6_bathrooms, color='brown',\n",
    "         linewidth=3, label='Q Reg : 0.6')\n",
    "plt.plot(house_data['bathrooms'], y_pred7_bathrooms, color='pink',\n",
    "         linewidth=3, label='Q Reg : 0.7')\n",
    "plt.plot(house_data['bathrooms'], y_pred8_bathrooms, color='olive',\n",
    "         linewidth=3, label='Q Reg : 0.8')\n",
    "plt.plot(house_data['bathrooms'], y_pred9_bathrooms, color='cyan',\n",
    "         linewidth=3, label='Q Reg : 0.9')\n",
    "plt.xticks(())\n",
    "plt.yticks(())\n",
    "plt.xlabel(\"x\")\n",
    "plt.ylabel(\"y and predicted y\")\n",
    "plt.title(\"Quantile regression on data with non-constant variance\")\n",
    "plt.legend()\n",
    "\n",
    "# Linear regression is plotted with the blue colored line. \n",
    "# We can compare that model with other quantile models."
   ]
  },
  {
   "cell_type": "markdown",
   "metadata": {},
   "source": [
    "### 6.5.3) sqft_living"
   ]
  },
  {
   "cell_type": "code",
   "execution_count": 121,
   "metadata": {},
   "outputs": [
    {
     "name": "stdout",
     "output_type": "stream",
     "text": [
      "\n",
      "*************************Outline the parameters for the 0.1th to 0.9th quantiles*************************\n",
      "\n",
      "    qt      intercept      x_coef  cf_lower_bound  cf_upper_bound\n",
      "0  0.1   65969.258947  109.914495      107.391948      112.437043\n",
      "1  0.2   71299.999999  127.647059      124.765724      130.528393\n",
      "2  0.3   67306.122447  152.993197      148.971332      157.015062\n",
      "3  0.4   77201.834948  174.311927      169.302817      179.321036\n",
      "4  0.5   97857.142856  190.476190      185.370743      195.581638\n",
      "5  0.6  112978.473583  207.436399      202.675616      212.197182\n",
      "6  0.7  140725.806464  217.741935      212.376282      223.107589\n",
      "7  0.8  159846.625474  240.490798      234.071018      246.910578\n",
      "8  0.9  144924.812031  306.766917      296.966846      316.566989\n",
      "\n",
      "*************************Outline the root mean square for the 0.1th to 0.9th quantiles*************************\n",
      "\n",
      "Root Mean Squared Error 1: -0.4444341695633405\n",
      "Root Mean Squared Error 2: -0.17870199701525658\n",
      "Root Mean Squared Error 3: 0.06143975575503613\n",
      "Root Mean Squared Error 4: 0.24240512995299046\n",
      "Root Mean Squared Error 5: 0.3329380837920274\n",
      "Root Mean Squared Error 6: 0.336902336341774\n",
      "Root Mean Squared Error 7: 0.2638988815377139\n",
      "Root Mean Squared Error 8: 0.05103282617878213\n",
      "Root Mean Squared Error 9: -0.6889578062925714\n",
      "\n",
      "*************************Plot 0.1th to 0.9th quantile models against original data*************************\n",
      "\n"
     ]
    },
    {
     "data": {
      "text/plain": [
       "<matplotlib.legend.Legend at 0x12fbcb58e48>"
      ]
     },
     "execution_count": 121,
     "metadata": {},
     "output_type": "execute_result"
    },
    {
     "data": {
      "image/png": "[encoded data removed]",
      "text/plain": [
       "<Figure size 432x288 with 1 Axes>"
      ]
     },
     "metadata": {},
     "output_type": "display_data"
    }
   ],
   "source": [
    "# Finding the regression coefficients for quantiles \n",
    "house_data_quantile = pd.DataFrame({'x':house_data['sqft_living'], 'y':house_data['price']})\n",
    "mod = smf.quantreg('y~x', data = house_data_quantile)\n",
    "\n",
    "# Define models for several quantiles\n",
    "quantiles = np.arange(0.1,1,0.1)\n",
    "models = []\n",
    "params = []\n",
    "\n",
    "# We build models for each quantile in our list quantiles inside a for loop\n",
    "# As we build these models we also store the model parameters in a list called params. \n",
    "for qt in quantiles: \n",
    "    res = mod.fit(q = qt )\n",
    "    models.append(res)\n",
    "    params.append([qt, res.params['Intercept'], res.params['x']] + res.conf_int().loc['x'].tolist())\n",
    "\n",
    "print('\\n*************************Outline the parameters for the 0.1th to 0.9th quantiles*************************\\n')\n",
    "# Lastly we make a dataframe of the same name, so we we can view our different models.\n",
    "params = pd.DataFrame(data = params, columns = ['qt', 'intercept', 'x_coef', 'cf_lower_bound', 'cf_upper_bound'])\n",
    "print(params)\n",
    "\n",
    "print('\\n*************************Outline the root mean square for the 0.1th to 0.9th quantiles*************************\\n')\n",
    "# Let us now plot 0.1th to 0.9th quantile models against our original data.\n",
    "y_pred1_sqft_living = models[0].params['Intercept'] + models[0].params['x'] * house_data['sqft_living']\n",
    "y_pred2_sqft_living = models[1].params['Intercept'] + models[1].params['x'] * house_data['sqft_living']\n",
    "y_pred3_sqft_living = models[2].params['Intercept'] + models[2].params['x'] * house_data['sqft_living']\n",
    "y_pred4_sqft_living = models[3].params['Intercept'] + models[3].params['x'] * house_data['sqft_living']\n",
    "y_pred5_sqft_living = models[4].params['Intercept'] + models[4].params['x'] * house_data['sqft_living']\n",
    "y_pred6_sqft_living = models[5].params['Intercept'] + models[5].params['x'] * house_data['sqft_living']\n",
    "y_pred7_sqft_living = models[6].params['Intercept'] + models[6].params['x'] * house_data['sqft_living']\n",
    "y_pred8_sqft_living = models[7].params['Intercept'] + models[7].params['x'] * house_data['sqft_living']\n",
    "y_pred9_sqft_living = models[8].params['Intercept'] + models[8].params['x'] * house_data['sqft_living']\n",
    "\n",
    "print('Root Mean Squared Error 1:', r2_score(y_true=house_data['price'], y_pred=y_pred1_sqft_living))\n",
    "print('Root Mean Squared Error 2:', r2_score(y_true=house_data['price'], y_pred=y_pred2_sqft_living))\n",
    "print('Root Mean Squared Error 3:', r2_score(y_true=house_data['price'], y_pred=y_pred3_sqft_living))\n",
    "print('Root Mean Squared Error 4:', r2_score(y_true=house_data['price'], y_pred=y_pred4_sqft_living))\n",
    "print('Root Mean Squared Error 5:', r2_score(y_true=house_data['price'], y_pred=y_pred5_sqft_living))\n",
    "print('Root Mean Squared Error 6:', r2_score(y_true=house_data['price'], y_pred=y_pred6_sqft_living))\n",
    "print('Root Mean Squared Error 7:', r2_score(y_true=house_data['price'], y_pred=y_pred7_sqft_living))\n",
    "print('Root Mean Squared Error 8:', r2_score(y_true=house_data['price'], y_pred=y_pred8_sqft_living))\n",
    "print('Root Mean Squared Error 9:', r2_score(y_true=house_data['price'], y_pred=y_pred9_sqft_living))\n",
    "\n",
    "## Let us now plot 0.1th, 0.5th and 0.9th quantile models against our original data.\n",
    "#\n",
    "print('\\n*************************Plot 0.1th to 0.9th quantile models against original data*************************\\n')\n",
    "plt.figure(5)\n",
    "plt.scatter(house_data['sqft_living'], house_data['price'],  color='black')\n",
    "\n",
    "plt.plot(house_data['sqft_living'], y_pred1_sqft_living, color='blue',\n",
    "         linewidth=3, label='Q Reg : 0.1')\n",
    "plt.plot(house_data['sqft_living'], y_pred2_sqft_living, color='orange',\n",
    "         linewidth=3, label='Q Reg : 0.2')\n",
    "plt.plot(house_data['sqft_living'], y_pred3_sqft_living, color='green',\n",
    "         linewidth=3, label='Q Reg : 0.3')\n",
    "plt.plot(house_data['sqft_living'], y_pred4_sqft_living, color='red',\n",
    "         linewidth=3, label='Q Reg : 0.4')\n",
    "plt.plot(house_data['sqft_living'], y_pred5_sqft_living, color='purple',\n",
    "         linewidth=3, label='Q Reg : 0.5')\n",
    "plt.plot(house_data['sqft_living'], y_pred6_sqft_living, color='brown',\n",
    "         linewidth=3, label='Q Reg : 0.6')\n",
    "plt.plot(house_data['sqft_living'], y_pred7_sqft_living, color='pink',\n",
    "         linewidth=3, label='Q Reg : 0.7')\n",
    "plt.plot(house_data['sqft_living'], y_pred8_sqft_living, color='olive',\n",
    "         linewidth=3, label='Q Reg : 0.8')\n",
    "plt.plot(house_data['sqft_living'], y_pred9_sqft_living, color='cyan',\n",
    "         linewidth=3, label='Q Reg : 0.9')\n",
    "plt.xticks(())\n",
    "plt.yticks(())\n",
    "plt.xlabel(\"sqft_living\")\n",
    "plt.ylabel(\"y and predicted y\")\n",
    "plt.title(\"Quantile regression on data with non-constant variance\")\n",
    "plt.legend()\n",
    "\n",
    "# Linear regression is plotted with the blue colored line. \n",
    "# We can compare that model with other quantile models."
   ]
  },
  {
   "cell_type": "markdown",
   "metadata": {},
   "source": [
    "### 6.5.4) floors"
   ]
  },
  {
   "cell_type": "code",
   "execution_count": 122,
   "metadata": {},
   "outputs": [
    {
     "name": "stdout",
     "output_type": "stream",
     "text": [
      "\n",
      "*************************Outline the parameters for the 0.1th to 0.9th quantiles*************************\n",
      "\n",
      "    qt      intercept         x_coef  cf_lower_bound  cf_upper_bound\n",
      "0  0.1  157500.000001   62500.000000    58545.940927    66454.059073\n",
      "1  0.2  193400.000010   66549.999995    62234.347593    70865.652397\n",
      "2  0.3  231749.999998   68250.000002    62701.432623    73798.567382\n",
      "3  0.4  274062.000003   72645.999999    66251.856550    79040.143448\n",
      "4  0.5  325999.999998   73000.000001    66016.439954    79983.560047\n",
      "5  0.6  355000.000019   89999.999991    82717.153091    97282.846890\n",
      "6  0.7  403000.000003  103999.999999    94889.022312   113110.977686\n",
      "7  0.8  444999.999999  135000.000000   124745.446389   145254.553612\n",
      "8  0.9  548999.999998  153000.000002   139959.887962   166040.112042\n",
      "\n",
      "*************************Outline the root mean square for the 0.1th to 0.9th quantiles*************************\n",
      "\n",
      "Root Mean Squared Error 1: -0.8564177997513587\n",
      "Root Mean Squared Error 2: -0.5627878909059352\n",
      "Root Mean Squared Error 3: -0.33182451432474425\n",
      "Root Mean Squared Error 4: -0.1274003161478432\n",
      "Root Mean Squared Error 5: 0.004675188864864954\n",
      "Root Mean Squared Error 6: 0.04904706218305799\n",
      "Root Mean Squared Error 7: -0.03394761703925675\n",
      "Root Mean Squared Error 8: -0.366135055283221\n",
      "Root Mean Squared Error 9: -1.325037400298466\n",
      "\n",
      "*************************Plot 0.1th to 0.9th quantile models against original data*************************\n",
      "\n"
     ]
    },
    {
     "data": {
      "text/plain": [
       "<matplotlib.legend.Legend at 0x12fadcd5848>"
      ]
     },
     "execution_count": 122,
     "metadata": {},
     "output_type": "execute_result"
    },
    {
     "data": {
      "image/png": "[encoded data removed]",
      "text/plain": [
       "<Figure size 432x288 with 1 Axes>"
      ]
     },
     "metadata": {},
     "output_type": "display_data"
    }
   ],
   "source": [
    "# Finding the regression coefficients for quantiles \n",
    "house_data_quantile = pd.DataFrame({'x':house_data['floors'], 'y':house_data['price']})\n",
    "mod = smf.quantreg('y~x', data = house_data_quantile)\n",
    "\n",
    "# Define models for several quantiles\n",
    "quantiles = np.arange(0.1,1,0.1)\n",
    "models = []\n",
    "params = []\n",
    "\n",
    "# We build models for each quantile in our list quantiles inside a for loop\n",
    "# As we build these models we also store the model parameters in a list called params. \n",
    "for qt in quantiles: \n",
    "    res = mod.fit(q = qt )\n",
    "    models.append(res)\n",
    "    params.append([qt, res.params['Intercept'], res.params['x']] + res.conf_int().loc['x'].tolist())\n",
    "\n",
    "print('\\n*************************Outline the parameters for the 0.1th to 0.9th quantiles*************************\\n')\n",
    "# Lastly we make a dataframe of the same name, so we we can view our different models.\n",
    "params = pd.DataFrame(data = params, columns = ['qt', 'intercept', 'x_coef', 'cf_lower_bound', 'cf_upper_bound'])\n",
    "print(params)\n",
    "\n",
    "print('\\n*************************Outline the root mean square for the 0.1th to 0.9th quantiles*************************\\n')\n",
    "# Let us now plot 0.1th to 0.9th quantile models against our original data.\n",
    "y_pred1_floors = models[0].params['Intercept'] + models[0].params['x'] * house_data['floors']\n",
    "y_pred2_floors = models[1].params['Intercept'] + models[1].params['x'] * house_data['floors']\n",
    "y_pred3_floors = models[2].params['Intercept'] + models[2].params['x'] * house_data['floors']\n",
    "y_pred4_floors = models[3].params['Intercept'] + models[3].params['x'] * house_data['floors']\n",
    "y_pred5_floors = models[4].params['Intercept'] + models[4].params['x'] * house_data['floors']\n",
    "y_pred6_floors = models[5].params['Intercept'] + models[5].params['x'] * house_data['floors']\n",
    "y_pred7_floors = models[6].params['Intercept'] + models[6].params['x'] * house_data['floors']\n",
    "y_pred8_floors = models[7].params['Intercept'] + models[7].params['x'] * house_data['floors']\n",
    "y_pred9_floors = models[8].params['Intercept'] + models[8].params['x'] * house_data['floors']\n",
    "\n",
    "print('Root Mean Squared Error 1:', r2_score(y_true=house_data['price'], y_pred=y_pred1_floors))\n",
    "print('Root Mean Squared Error 2:', r2_score(y_true=house_data['price'], y_pred=y_pred2_floors))\n",
    "print('Root Mean Squared Error 3:', r2_score(y_true=house_data['price'], y_pred=y_pred3_floors))\n",
    "print('Root Mean Squared Error 4:', r2_score(y_true=house_data['price'], y_pred=y_pred4_floors))\n",
    "print('Root Mean Squared Error 5:', r2_score(y_true=house_data['price'], y_pred=y_pred5_floors))\n",
    "print('Root Mean Squared Error 6:', r2_score(y_true=house_data['price'], y_pred=y_pred6_floors))\n",
    "print('Root Mean Squared Error 7:', r2_score(y_true=house_data['price'], y_pred=y_pred7_floors))\n",
    "print('Root Mean Squared Error 8:', r2_score(y_true=house_data['price'], y_pred=y_pred8_floors))\n",
    "print('Root Mean Squared Error 9:', r2_score(y_true=house_data['price'], y_pred=y_pred9_floors))\n",
    "\n",
    "## Let us now plot 0.1th, 0.5th and 0.9th quantile models against our original data.\n",
    "#\n",
    "print('\\n*************************Plot 0.1th to 0.9th quantile models against original data*************************\\n')\n",
    "plt.figure(5)\n",
    "plt.scatter(house_data['floors'], house_data['price'],  color='black')\n",
    "\n",
    "plt.plot(house_data['floors'], y_pred1_floors, color='blue',\n",
    "         linewidth=3, label='Q Reg : 0.1')\n",
    "plt.plot(house_data['floors'], y_pred2_floors, color='orange',\n",
    "         linewidth=3, label='Q Reg : 0.2')\n",
    "plt.plot(house_data['floors'], y_pred3_floors, color='green',\n",
    "         linewidth=3, label='Q Reg : 0.3')\n",
    "plt.plot(house_data['floors'], y_pred4_floors, color='red',\n",
    "         linewidth=3, label='Q Reg : 0.4')\n",
    "plt.plot(house_data['floors'], y_pred5_floors, color='purple',\n",
    "         linewidth=3, label='Q Reg : 0.5')\n",
    "plt.plot(house_data['floors'], y_pred6_floors, color='brown',\n",
    "         linewidth=3, label='Q Reg : 0.6')\n",
    "plt.plot(house_data['floors'], y_pred7_floors, color='pink',\n",
    "         linewidth=3, label='Q Reg : 0.7')\n",
    "plt.plot(house_data['floors'], y_pred8_floors, color='olive',\n",
    "         linewidth=3, label='Q Reg : 0.8')\n",
    "plt.plot(house_data['floors'], y_pred9_floors, color='cyan',\n",
    "         linewidth=3, label='Q Reg : 0.9')\n",
    "plt.xticks(())\n",
    "plt.yticks(())\n",
    "plt.xlabel(\"floors\")\n",
    "plt.ylabel(\"y and predicted y\")\n",
    "plt.title(\"Quantile regression on data with non-constant variance\")\n",
    "plt.legend()\n",
    "\n",
    "# Linear regression is plotted with the blue colored line. \n",
    "# We can compare that model with other quantile models.\n"
   ]
  },
  {
   "cell_type": "markdown",
   "metadata": {},
   "source": [
    "### Conclusion\n",
    "\n",
    "> The predictions from the Multilinear, Lasso, Elastic net and Ridge regressions are similar. For all the four models, the R squared value was approximately 67.3%.\n",
    "\n",
    "> Following the quantile regression assessment performed on bedrooms, bathrooms, sq_living and floors, the quantile with the highest R Squared value was the 8th quantile (0.9)."
   ]
  },
  {
   "cell_type": "markdown",
   "metadata": {
    "id": "lQ2G4ZPDVOXE"
   },
   "source": [
    "## 8. Challenging the solution"
   ]
  },
  {
   "cell_type": "markdown",
   "metadata": {
    "id": "jWVGKGuiYMWg"
   },
   "source": [
    "> Additional processes/steps should be performed to test the accuracy of the developed models.\n",
    "\n",
    "> Additional exploratory analysis can be performed to assess the factors that siginificantly influence the prices of houses.\n",
    "\n",
    "\n",
    "\n",
    "\n"
   ]
  }
 ],
 "metadata": {
  "colab": {
   "collapsed_sections": [
    "kLG2VTrnTvYL",
    "XecOwPNorl2W",
    "J4wfHZwQrs-t",
    "a9BPYqunry97",
    "7KMRBJ7zr9HD",
    "zSGyg6kWsBUl",
    "iUNbvIvnT7ep",
    "OI3P3YnHUEBk",
    "ckfufNrcUHeH",
    "6XC_g-zKxe-r",
    "FlBMxEDBUc9B",
    "rF2ABPsHUtbZ",
    "vTbdjSrhVIiT",
    "lQ2G4ZPDVOXE",
    "xrmHVMVsVS--",
    "HPQviDmNtta8",
    "qjFHK1CKty7o",
    "HSsicSdvt4Zs"
   ],
   "name": "Supervised Learning with Exploratory Data Analysis - Exercise 1",
   "provenance": [],
   "toc_visible": true
  },
  "kernelspec": {
   "display_name": "Python 3",
   "language": "python",
   "name": "python3"
  },
  "language_info": {
   "codemirror_mode": {
    "name": "ipython",
    "version": 3
   },
   "file_extension": ".py",
   "mimetype": "text/x-python",
   "name": "python",
   "nbconvert_exporter": "python",
   "pygments_lexer": "ipython3",
   "version": "3.7.6"
  }
 },
 "nbformat": 4,
 "nbformat_minor": 4
}
